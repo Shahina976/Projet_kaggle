{
  "cells": [
    {
      "cell_type": "markdown",
      "metadata": {
        "id": "t2JBgTr2CajI"
      },
      "source": [
        "# Imports"
      ]
    },
    {
      "cell_type": "code",
      "execution_count": 1,
      "metadata": {
        "id": "hxuzsZu2wJEj"
      },
      "outputs": [],
      "source": [
        "import pandas as pd\n",
        "import pathlib\n",
        "import pyarrow as pa\n",
        "import pyarrow.parquet as pq\n",
        "import numpy as np\n",
        "import tensorflow as tf\n",
        "import random\n",
        "import matplotlib.pyplot as plt\n",
        "import pickle\n",
        "import seaborn as sns\n",
        "from plotly.subplots import make_subplots\n",
        "import plotly.express as px\n",
        "import plotly.graph_objects as go\n",
        "from scipy.stats import gaussian_kde"
      ]
    },
    {
      "cell_type": "code",
      "execution_count": 7,
      "metadata": {
        "id": "QddKzftfJAlL"
      },
      "outputs": [],
      "source": [
        "from tensorflow.keras.models import Sequential, Model\n",
        "from tensorflow.keras.optimizers import Adam\n",
        "from tensorflow.keras.layers import Input, Flatten, Reshape, Conv1D, MaxPooling1D, GlobalMaxPooling1D, Dropout, BatchNormalization, LSTM, Dense, Activation, TimeDistributed, Bidirectional, Concatenate, GRU, Masking\n",
        "from tensorflow.keras.models import load_model\n",
        "from tensorflow.keras.regularizers import l2 as l2_regularization\n",
        "from tensorflow.keras import metrics as classif_metrics\n",
        "from tensorflow.keras.callbacks import EarlyStopping, ReduceLROnPlateau\n",
        "from keras.utils import to_categorical"
      ]
    },
    {
      "cell_type": "code",
      "execution_count": 3,
      "metadata": {
        "id": "jEZ_v4MXElU4"
      },
      "outputs": [],
      "source": [
        "from sklearn.preprocessing import StandardScaler\n",
        "from sklearn.preprocessing import LabelEncoder\n",
        "from sklearn.metrics import precision_score, recall_score, f1_score, roc_curve, auc, confusion_matrix"
      ]
    },
    {
      "cell_type": "markdown",
      "metadata": {
        "id": "c47nRCh8CdU5"
      },
      "source": [
        "# Data loading"
      ]
    },
    {
      "cell_type": "code",
      "execution_count": 4,
      "metadata": {
        "colab": {
          "base_uri": "https://localhost:8080/"
        },
        "id": "OnVHxkj2C4I2",
        "outputId": "94ff4465-1f0f-4f16-82da-59eee0e0376a"
      },
      "outputs": [
        {
          "output_type": "stream",
          "name": "stdout",
          "text": [
            "Mounted at /content/drive\n"
          ]
        }
      ],
      "source": [
        "from google.colab import drive\n",
        "drive.mount('/content/drive')"
      ]
    },
    {
      "cell_type": "code",
      "execution_count": 5,
      "metadata": {
        "id": "IQRxHudl3JRi"
      },
      "outputs": [],
      "source": [
        "# Define a schema and read parquet data\n",
        "schema = pa.schema([('series_id',pa.string()),\n",
        "          ('step',pa.int32()),\n",
        "          ('timestamp', pa.timestamp('ms',tz='UTC')),\n",
        "          ('anglez',pa.float32()),\n",
        "          ('enmo',pa.float32())\n",
        "         ])"
      ]
    },
    {
      "cell_type": "code",
      "execution_count": 6,
      "metadata": {
        "id": "U0-RPxIn2ElI"
      },
      "outputs": [],
      "source": [
        "# Reading clean data (2 classes / no NAs)\n",
        "DATA_DIR = pathlib.Path(\"/content/drive/MyDrive/M2/Datasets/Sleep_States\")\n",
        "\n",
        "DATASET_PATH = DATA_DIR.joinpath(\"data_series_clean.zip\")\n",
        "LABELS_PATH = DATA_DIR.joinpath(\"train_events.csv\")\n",
        "COMPETITION_SERIES_PATH = DATA_DIR.joinpath(\"test_series.parquet\")\n",
        "\n",
        "dataset = pd.read_csv(DATASET_PATH)\n",
        "labels = pd.read_csv(LABELS_PATH)\n",
        "\n",
        "test_series = pq.read_table(COMPETITION_SERIES_PATH, schema=schema)\n",
        "test_series = test_series.to_pandas()"
      ]
    },
    {
      "cell_type": "markdown",
      "metadata": {
        "id": "zUrQwNRWgMHy"
      },
      "source": [
        "# Functions"
      ]
    },
    {
      "cell_type": "code",
      "execution_count": 16,
      "metadata": {
        "id": "NqjVAFiedULy"
      },
      "outputs": [],
      "source": [
        "def get_missing_data_column(df, missing_col, id_col, value_col):\n",
        "  '''Returns the time series that contain missing values on missing_col for each value_col.\n",
        "\n",
        "  Parameters\n",
        "  ----------\n",
        "  df : pandas dataframe\n",
        "    your data\n",
        "  missing_col : string\n",
        "    column to inspect for NA\n",
        "  id_col : string\n",
        "    the column used as id\n",
        "  value_col : string\n",
        "    target column for each id\n",
        "\n",
        "  Output\n",
        "  ------\n",
        "  dictionary\n",
        "    keys : string\n",
        "    values : list<string>\n",
        "  '''\n",
        "\n",
        "  missing_time_mask = df[missing_col].isna()\n",
        "  missing_time_df = df[missing_time_mask]\n",
        "\n",
        "  missing_dict = {}\n",
        "\n",
        "  for _, row in missing_time_df.iterrows():\n",
        "    series_id = row[id_col]\n",
        "    night = row[value_col]\n",
        "\n",
        "    if series_id not in missing_dict:\n",
        "        missing_dict[series_id] = []\n",
        "\n",
        "    missing_dict[series_id].append(night)\n",
        "\n",
        "  return missing_dict"
      ]
    },
    {
      "cell_type": "code",
      "execution_count": 17,
      "metadata": {
        "id": "Q8S6mvii2E6H"
      },
      "outputs": [],
      "source": [
        "def encode_output(df, output_col='event'):\n",
        "  \"\"\"Encodes the categorical output column values as integers.\n",
        "\n",
        "  Parameters\n",
        "  ----------\n",
        "  df: pandas dataframe\n",
        "    your data.\n",
        "  output_col: string, optional, default=event\n",
        "    name of the column to be encoded.\n",
        "\n",
        "  Output\n",
        "  ------\n",
        "  None\n",
        "  \"\"\"\n",
        "  unique_values = list(df[output_col].unique())\n",
        "  mapping = {value: index for index, value in enumerate(unique_values)}\n",
        "  df[output_col] = df[output_col].replace(mapping)\n",
        "  return mapping"
      ]
    },
    {
      "cell_type": "code",
      "execution_count": 18,
      "metadata": {
        "id": "PtroOg_SgODn"
      },
      "outputs": [],
      "source": [
        "def add_padding(df, column, length, number_features, output_class=None):\n",
        "  '''Creates empty series observations to be used as padding.\n",
        "\n",
        "  Parameters\n",
        "  ----------\n",
        "  df: pandas dataframe\n",
        "    data\n",
        "  column: string\n",
        "    name of the time column (to be used for padding).\n",
        "  length: int\n",
        "    length of the longest time series in the dataset.\n",
        "  number_features: int\n",
        "    number of features to be generated for each observation.\n",
        "  output_class: int\n",
        "    if defined, it represents the class value of the padded output.\n",
        "\n",
        "  Output\n",
        "  ------\n",
        "  Numpy array\n",
        "  '''\n",
        "  # Calculate the number of rows to pad\n",
        "  pad_rows = length - df[column].max()\n",
        "\n",
        "  if output_class is None:\n",
        "    # Create a padding array (We choose (0,0) as neutral values for anglez and enmo)\n",
        "    padding = np.zeros((pad_rows, number_features))\n",
        "    # The time feature contains a sequence of numbers\n",
        "    # padding[:, number_features-1] = np.arange(df[column].max()+1, length+1)\n",
        "  else:\n",
        "    padding = np.zeros(pad_rows)\n",
        "\n",
        "  return padding"
      ]
    },
    {
      "cell_type": "code",
      "execution_count": 19,
      "metadata": {
        "id": "Dz2mStb7pAv2"
      },
      "outputs": [],
      "source": [
        "def create_dataset(data, features=[\"enmo\", \"anglez\", \"step\"], id_feature=\"series_id\", time_feature=\"step\", output_class=None, nb_classes=3):\n",
        "  \"\"\"Creates a dataset from a dataframe.\n",
        "\n",
        "  Parameters\n",
        "  ----------\n",
        "  data: pandas dataframe\n",
        "    original dataframe\n",
        "  features: list of string, optional, default:[\"enmo\", \"anglez\", \"step\"]\n",
        "    list of features to be kept.\n",
        "  id_feature: string, optional, default: \"series_id\"\n",
        "    name of the feature that is used as id.\n",
        "  time_feature: string, optional, default: \"step\n",
        "    name of the feature that is used for time (steps) definition.\n",
        "  output_class: int\n",
        "    if defined, it represents the class value of the padded output.\n",
        "  nb_classes: int\n",
        "    number of classes in classification.\n",
        "\n",
        "  Output\n",
        "  ------\n",
        "  Numpy array of shape (number_timeseries, max_timeseries_length, number_features)\n",
        "  \"\"\"\n",
        "  encoder = LabelEncoder()\n",
        "\n",
        "  # Find the maximum length of the time series\n",
        "  length = data[time_feature].max()\n",
        "\n",
        "  # Initialize arrays to store data\n",
        "  series_data = []\n",
        "\n",
        "  for series_id, df in data.groupby(id_feature):\n",
        "    if output_class is None:\n",
        "      # Case of input_data features\n",
        "      temp_serie = df.loc[:, features].to_numpy()\n",
        "    else:\n",
        "      # Case of output_data feature\n",
        "      temp_serie = df[features[0]].to_numpy()\n",
        "\n",
        "    if df[time_feature].max() < length:\n",
        "      # We pad the time series to the longest time series\n",
        "      padding = add_padding(df, time_feature, length, len(features), output_class)\n",
        "\n",
        "      # Concatenate the padding array to the temp_serie\n",
        "      temp_serie = np.concatenate((temp_serie, padding), axis=0)\n",
        "\n",
        "    if not output_class is None:\n",
        "      temp_serie = to_categorical(temp_serie, num_classes=nb_classes)\n",
        "\n",
        "    series_data.append(temp_serie)\n",
        "\n",
        "  series_data = np.array(series_data)\n",
        "\n",
        "  # Generalize this if/else later for nb_class<>3\n",
        "  if output_class is None:\n",
        "    mask_data = np.all(series_data == np.array([0, 0, 0]), axis=-1)\n",
        "  else:\n",
        "    mask_data = np.all(series_data == np.array([0, 0, 1]), axis=-1)\n",
        "\n",
        "  mask_data = np.logical_not(mask_data)\n",
        "\n",
        "  return series_data, mask_data"
      ]
    },
    {
      "cell_type": "code",
      "execution_count": 20,
      "metadata": {
        "id": "4xmojc9cANQ2"
      },
      "outputs": [],
      "source": [
        "def split_dataset(inputs, outputs, proportions=[25, 5, 5], seed=1):\n",
        "  '''Creates training, validation and test datasets from the original dataset.\n",
        "\n",
        "  Parameters\n",
        "  ----------\n",
        "\n",
        "  inputs: numpy array\n",
        "    dataset of inputs\n",
        "  outputs: numpy array\n",
        "    dataset of outputs\n",
        "  proportions: list of integers, optional, default=[25, 5, 5]\n",
        "    number of samples in train, test, val\n",
        "  seed: int, optional, default=1\n",
        "    seed for reproductibility\n",
        "\n",
        "  Outputs\n",
        "  -------\n",
        "  ((train_input, train_output), (test_input, test_output), (val_input, val_output))\n",
        "  '''\n",
        "  random.seed(seed)\n",
        "  np.random.seed(seed)\n",
        "\n",
        "  num_samples = inputs.shape[0]\n",
        "  shuffled_indices = np.random.permutation(num_samples)\n",
        "\n",
        "  train_indices = shuffled_indices[:proportions[0]]\n",
        "  test_indices = shuffled_indices[proportions[0]:proportions[0]+proportions[1]]\n",
        "  validation_indices = shuffled_indices[proportions[0]+proportions[1]:]\n",
        "\n",
        "  train_input = inputs[train_indices]\n",
        "  train_output = outputs[train_indices]\n",
        "\n",
        "  test_input = inputs[test_indices]\n",
        "  test_output = outputs[test_indices]\n",
        "\n",
        "  validation_input = inputs[validation_indices]\n",
        "  validation_output = outputs[validation_indices]\n",
        "\n",
        "  return (train_input, train_output), (test_input, test_output), (validation_input, validation_output), (train_indices, test_indices, validation_indices)"
      ]
    },
    {
      "cell_type": "code",
      "execution_count": 21,
      "metadata": {
        "id": "MRFoS1N_oK9E"
      },
      "outputs": [],
      "source": [
        "def create_lstm(input_shape, metrics, lr=0.001, loss='sparse_categorical_crossentropy', num_classes=3):\n",
        "  '''Creates an LSTM model.\n",
        "\n",
        "  Parameters\n",
        "  ----------\n",
        "\n",
        "  input_shape: Tuple(int)\n",
        "    shape of the input data.\n",
        "  metrics: list\n",
        "    list of tensorflow metrics to be used for classification.\n",
        "  lr: float, optional, default=0.001\n",
        "    learning rate\n",
        "  loss: string | tensorflow object (if custom loss), optional, default='sparse_categorical_crossentropy'\n",
        "    loss function\n",
        "  num_classes: int\n",
        "    number of classes for the classification task\n",
        "\n",
        "  Ouput\n",
        "  -----\n",
        "  Tensorflow Model object\n",
        "  '''\n",
        "  input_layer = Input(shape=input_shape)\n",
        "  masked_input = Masking(mask_value=0.)(input_layer)\n",
        "\n",
        "  l1 = LSTM(60, return_sequences=True, input_shape=input_shape, kernel_regularizer=l2_regularization(0.01), recurrent_regularizer=l2_regularization(0.01))(masked_input)\n",
        "  l2 = Dropout(0.2)(l1)\n",
        "\n",
        "  l3 = LSTM(60, return_sequences=True, kernel_regularizer=l2_regularization(0.01), recurrent_regularizer=l2_regularization(0.01))(l2)\n",
        "  l4 = Dropout(0.2)(l3)\n",
        "\n",
        "  output_layer = Dense(num_classes, activation='softmax')(l4)\n",
        "\n",
        "  model = Model(inputs=input_layer, outputs=output_layer, name='LSTM')\n",
        "\n",
        "  optimizer = Adam(learning_rate=lr)\n",
        "  model.compile(loss=loss, optimizer=optimizer, metrics=metrics, sample_weight_mode=\"temporal\")\n",
        "\n",
        "  return model"
      ]
    },
    {
      "cell_type": "code",
      "execution_count": 22,
      "metadata": {
        "id": "70KRAJK1oOsL"
      },
      "outputs": [],
      "source": [
        "def create_bilstm(input_shape, metrics, lr=0.001, loss='sparse_categorical_crossentropy', num_classes=3):\n",
        "  '''Creates a BiLSTM model.\n",
        "\n",
        "  Parameters\n",
        "  ----------\n",
        "\n",
        "  input_shape: Tuple(int)\n",
        "    shape of the input data.\n",
        "  metrics: list\n",
        "    list of tensorflow metrics to be used for classification.\n",
        "  lr: float, optional, default=0.001\n",
        "    learning rate\n",
        "  loss: string | tensorflow object (if custom loss), optional, default='sparse_categorical_crossentropy'\n",
        "    loss function\n",
        "  num_classes: int\n",
        "    number of classes for the classification task\n",
        "\n",
        "  Ouput\n",
        "  -----\n",
        "  Tensorflow Model object\n",
        "  '''\n",
        "  input_layer = Input(shape=input_shape, name='input_layer')\n",
        "  masked_input = Masking(mask_value=0.)(input_layer)\n",
        "\n",
        "  bl1 = Bidirectional(LSTM(units=64, return_sequences=True))(masked_input)\n",
        "\n",
        "  bl2 = Bidirectional(LSTM(units=32, return_sequences=True))(bl1)\n",
        "\n",
        "  bl3 = Bidirectional(LSTM(units=16, return_sequences=True))(bl2)\n",
        "\n",
        "  d1 = Dense(units=128, activation='relu')(bl3)\n",
        "  d2 = Dropout(0.1)(d1)\n",
        "\n",
        "  output_layer = Dense(num_classes, activation='softmax')(d2)\n",
        "\n",
        "  model = Model(inputs=input_layer, outputs=output_layer, name=\"BiLSTM\")\n",
        "\n",
        "  optimizer = Adam(learning_rate=lr)\n",
        "  model.compile(loss=loss, optimizer=optimizer, metrics=metrics, sample_weight_mode=\"temporal\")\n",
        "\n",
        "  return model"
      ]
    },
    {
      "cell_type": "code",
      "execution_count": 23,
      "metadata": {
        "id": "zzLQPBh2oQsZ"
      },
      "outputs": [],
      "source": [
        "def create_lstmcnn(input_shape, metrics, lr=0.001, loss='sparse_categorical_crossentropy', num_classes=3):\n",
        "  '''Creates a CNN-LSTM model.\n",
        "\n",
        "  Parameters\n",
        "  ----------\n",
        "\n",
        "  input_shape: Tuple(int)\n",
        "    shape of the input data.\n",
        "  metrics: list\n",
        "    list of tensorflow metrics to be used for classification.\n",
        "  lr: float, optional, default=0.001\n",
        "    learning rate\n",
        "  loss: string | tensorflow object (if custom loss), optional, default='sparse_categorical_crossentropy'\n",
        "    loss function\n",
        "  num_classes: int\n",
        "    number of classes for the classification task\n",
        "\n",
        "  Ouput\n",
        "  -----\n",
        "  Tensorflow Model object\n",
        "  '''\n",
        "  input_layer = Input(shape=input_shape, name='input_layer')\n",
        "  masked_input = Masking(mask_value=0.)(input_layer)\n",
        "\n",
        "  # First Conv1D Layer\n",
        "  x1 = Conv1D(16, kernel_size=512, activation='relu', padding=\"same\")(masked_input)\n",
        "  x2 = Dropout(0.25)(x1)\n",
        "  x3 = BatchNormalization()(x2)\n",
        "  #x = MaxPooling1D(pool_size=2, strides=2, data_format=\"channels_first\")(x)\n",
        "\n",
        "  # Second Conv1D Layer\n",
        "  x4 = Conv1D(16, kernel_size=256, activation='relu', padding=\"same\")(x3)\n",
        "  x5 = Dropout(0.25)(x4)\n",
        "  x6 = BatchNormalization()(x5)\n",
        "\n",
        "  # Third Conv1D Layer\n",
        "  x7 = Conv1D(16, kernel_size=256, activation='relu', padding=\"same\")(x6)\n",
        "  x8 = Dropout(0.25)(x7)\n",
        "  x9 = BatchNormalization()(x8)\n",
        "  #x = MaxPooling1D(pool_size=2, strides=2, data_format=\"channels_first\")(x)\n",
        "\n",
        "  # Fourth Conv1D Layer\n",
        "  x10 = Conv1D(16, kernel_size=32, activation='relu', padding=\"same\")(x9)\n",
        "  x11 = Dropout(0.25)(x10)\n",
        "  x12 = BatchNormalization()(x11)\n",
        "\n",
        "  # LSTM Layer\n",
        "  x13 = LSTM(256, return_sequences=True)(x12)\n",
        "\n",
        "  # Dense Layer\n",
        "  x14 = TimeDistributed(Dense(128, activation='relu'))(x13)\n",
        "  x15 = Dropout(0.25)(x14)\n",
        "  x16 = BatchNormalization()(x15)\n",
        "\n",
        "  # Output layer\n",
        "  output_layer = TimeDistributed(Dense(units=num_classes, activation='softmax'))(x16)\n",
        "\n",
        "  # Creation of the model\n",
        "  model = Model(inputs=input_layer, outputs=output_layer, name=\"CNN-LSTM\")\n",
        "\n",
        "  optimizer = Adam(learning_rate=lr)\n",
        "  model.compile(loss=loss, optimizer=optimizer, metrics=metrics, sample_weight_mode=\"temporal\")\n",
        "\n",
        "  return model"
      ]
    },
    {
      "cell_type": "code",
      "execution_count": 24,
      "metadata": {
        "id": "mC_6bU04oUa1"
      },
      "outputs": [],
      "source": [
        "def create_bilstmcnn(input_shape, metrics, lr=0.001, loss='sparse_categorical_crossentropy', num_classes=3):\n",
        "  '''Creates a CNN-BiLSTM model.\n",
        "\n",
        "  Parameters\n",
        "  ----------\n",
        "\n",
        "  input_shape: Tuple(int)\n",
        "    shape of the input data.\n",
        "  metrics: list\n",
        "    list of tensorflow metrics to be used for classification.\n",
        "  lr: float, optional, default=0.001\n",
        "    learning rate\n",
        "  loss: string | tensorflow object (if custom loss), optional, default='sparse_categorical_crossentropy'\n",
        "    loss function\n",
        "  num_classes: int\n",
        "    number of classes for the classification task\n",
        "\n",
        "  Ouput\n",
        "  -----\n",
        "  Tensorflow Model object\n",
        "  '''\n",
        "  input_layer = Input(shape=input_shape, name='input_layer')\n",
        "  masked_input = Masking(mask_value=0.)(input_layer)\n",
        "\n",
        "  # First Conv1D Layer\n",
        "  x1 = Conv1D(16, kernel_size=512, activation='relu', padding=\"same\")(masked_input)\n",
        "  x2 = Dropout(0.25)(x1)\n",
        "  x3 = BatchNormalization()(x2)\n",
        "  #x = MaxPooling1D(pool_size=2, strides=2, data_format=\"channels_first\")(x)\n",
        "\n",
        "  # Second Conv1D Layer\n",
        "  x4 = Conv1D(16, kernel_size=256, activation='relu', padding=\"same\")(x3)\n",
        "  x5 = Dropout(0.25)(x4)\n",
        "  x6 = BatchNormalization()(x5)\n",
        "\n",
        "  # Third Conv1D Layer\n",
        "  x7 = Conv1D(16, kernel_size=256, activation='relu', padding=\"same\")(x6)\n",
        "  x8 = Dropout(0.25)(x7)\n",
        "  x9 = BatchNormalization()(x8)\n",
        "  #x = MaxPooling1D(pool_size=2, strides=2, data_format=\"channels_first\")(x)\n",
        "\n",
        "  # Fourth Conv1D Layer\n",
        "  x10 = Conv1D(16, kernel_size=32, activation='relu', padding=\"same\")(x9)\n",
        "  x11 = Dropout(0.25)(x10)\n",
        "  x12 = BatchNormalization()(x11)\n",
        "\n",
        "  # LSTM Layer\n",
        "  bl2 = Bidirectional(LSTM(units=128, return_sequences=True))(x12)\n",
        "\n",
        "  # Dense Layer\n",
        "  x14 = TimeDistributed(Dense(128, activation='relu'))(bl2)\n",
        "  x15 = Dropout(0.25)(x14)\n",
        "  x16 = BatchNormalization()(x15)\n",
        "\n",
        "  # Output layer\n",
        "  output_layer = TimeDistributed(Dense(units=num_classes, activation='softmax'))(x16)\n",
        "\n",
        "  # Creation of the model\n",
        "  model = Model(inputs=input_layer, outputs=output_layer, name=\"CNN-LSTM\")\n",
        "\n",
        "  optimizer = Adam(learning_rate=lr)\n",
        "  model.compile(loss=loss, optimizer=optimizer, metrics=metrics, sample_weight_mode=\"temporal\")\n",
        "\n",
        "  return model"
      ]
    },
    {
      "cell_type": "code",
      "execution_count": 25,
      "metadata": {
        "id": "Wgo2owLTtUjV"
      },
      "outputs": [],
      "source": [
        "def visualize_metric(history, metric_name):\n",
        "  '''Creates a visualization of the evolution of metric_name during training.\n",
        "\n",
        "  Parameters\n",
        "  ----------\n",
        "\n",
        "  history: result of model.fit()\n",
        "    logs from model training.\n",
        "  metric_name: string\n",
        "    name of the metric attribute in history.\n",
        "\n",
        "  Ouputs\n",
        "  ------\n",
        "  None\n",
        "  '''\n",
        "  loss = history.history[metric_name]\n",
        "  val_loss = history.history[f'val_{metric_name}']\n",
        "\n",
        "  plt.plot(loss, label=f'{metric_name} (Training)')\n",
        "  plt.plot(val_loss, label=f'{metric_name} (Validation)')\n",
        "  plt.title(f'{metric_name} Over Time')\n",
        "  plt.xlabel('Epoch')\n",
        "  plt.ylabel(f'{metric_name} ')\n",
        "  plt.legend()\n",
        "  plt.show()"
      ]
    },
    {
      "cell_type": "markdown",
      "metadata": {
        "id": "0jUMwB6wm3Dp"
      },
      "source": [
        "# Data Pre-processing"
      ]
    },
    {
      "cell_type": "code",
      "execution_count": 26,
      "metadata": {
        "colab": {
          "base_uri": "https://localhost:8080/"
        },
        "id": "DPwgLtQT33WP",
        "outputId": "01236cb2-74a8-4883-fb94-142f3e495b46"
      },
      "outputs": [
        {
          "output_type": "stream",
          "name": "stdout",
          "text": [
            "{'awake': 0, 'sleeping': 1}\n"
          ]
        }
      ],
      "source": [
        "# Returns the mapping dictionary\n",
        "print(encode_output(dataset))"
      ]
    },
    {
      "cell_type": "code",
      "execution_count": 27,
      "metadata": {
        "id": "1FH0SVfaMGfG"
      },
      "outputs": [],
      "source": [
        "# We standardise the columns anglez and enmo\n",
        "scaler = StandardScaler()\n",
        "scaler.fit(dataset[['enmo', 'anglez']])\n",
        "dataset[['enmo', 'anglez']] = scaler.transform(dataset[['enmo', 'anglez']])"
      ]
    },
    {
      "cell_type": "code",
      "execution_count": 29,
      "metadata": {
        "colab": {
          "base_uri": "https://localhost:8080/"
        },
        "id": "DJYneUuwuLhP",
        "outputId": "5bc6280a-e31d-437c-fe39-977c7e9d7637"
      },
      "outputs": [
        {
          "output_type": "stream",
          "name": "stdout",
          "text": [
            "Input shape : (35, 634680, 3)\n",
            "Output shape : (35, 634680, 3)\n"
          ]
        }
      ],
      "source": [
        "clean_input, mask_input = create_dataset(dataset)\n",
        "clean_output, mask_output = create_dataset(dataset, features=['event'], output_class=2, nb_classes=3)\n",
        "\n",
        "print(f\"Input shape : {clean_input.shape}\")\n",
        "print(f\"Output shape : {clean_output.shape}\")"
      ]
    },
    {
      "cell_type": "code",
      "source": [
        "flattened_data = clean_output.reshape(-1, 3)\n",
        "unique_arrays, counts  = np.unique(flattened_data, axis=0, return_counts=True)\n",
        "for unique_array, count in zip(unique_arrays, counts):\n",
        "    print(\"Array unique :\", unique_array)\n",
        "    print(\"Nombre d'occurrences :\", count)"
      ],
      "metadata": {
        "colab": {
          "base_uri": "https://localhost:8080/"
        },
        "id": "DoHveexEqmD3",
        "outputId": "6d0632a2-8c0e-4a38-beb2-07f9133aa757"
      },
      "execution_count": null,
      "outputs": [
        {
          "output_type": "stream",
          "name": "stdout",
          "text": [
            "Array unique : [0. 0. 1.]\n",
            "Nombre d'occurrences : 9048240\n",
            "Array unique : [0. 1. 0.]\n",
            "Nombre d'occurrences : 4504884\n",
            "Array unique : [1. 0. 0.]\n",
            "Nombre d'occurrences : 8660676\n"
          ]
        }
      ]
    },
    {
      "cell_type": "code",
      "execution_count": 31,
      "metadata": {
        "id": "7C8sHUzgB9dI"
      },
      "outputs": [],
      "source": [
        "train_data, test_data, val_data, indices = split_dataset(clean_input, clean_output)"
      ]
    },
    {
      "cell_type": "code",
      "source": [
        "mask_train = mask_input[indices[0]]\n",
        "mask_test = mask_input[indices[1]]\n",
        "mask_val = mask_input[indices[2]]"
      ],
      "metadata": {
        "id": "KH_9fFX2wt2y"
      },
      "execution_count": 32,
      "outputs": []
    },
    {
      "cell_type": "code",
      "execution_count": null,
      "metadata": {
        "id": "XhUjfrrqA574"
      },
      "outputs": [],
      "source": [
        "#del dataset"
      ]
    },
    {
      "cell_type": "markdown",
      "metadata": {
        "id": "Sr87ZufMChjO"
      },
      "source": [
        "# Data Vizualisation"
      ]
    },
    {
      "cell_type": "markdown",
      "metadata": {
        "id": "uLbS4ePj_80o"
      },
      "source": [
        "Credits for the inspiration of some of the graphics and visualizations : **KELLI BELCHER** (https://www.kaggle.com/code/kellibelcher/time-series-classification-with-lstms-sensor-eda)"
      ]
    },
    {
      "cell_type": "code",
      "execution_count": null,
      "metadata": {
        "colab": {
          "base_uri": "https://localhost:8080/"
        },
        "id": "XskWfygS3gQZ",
        "outputId": "785f9a40-23f5-4018-8ce3-9d3c0f472092"
      },
      "outputs": [
        {
          "output_type": "stream",
          "name": "stdout",
          "text": [
            "Missing values = 0, Duplicates = 0.\n",
            "\n"
          ]
        }
      ],
      "source": [
        "print(f\"Missing values = {dataset.isna().sum().sum()}, Duplicates = {dataset.duplicated().sum()}.\\n\")"
      ]
    },
    {
      "cell_type": "code",
      "execution_count": null,
      "metadata": {
        "colab": {
          "base_uri": "https://localhost:8080/",
          "height": 582
        },
        "id": "j1oLdokO0q73",
        "outputId": "2ab5c06f-dc64-4b5a-9dd3-c640cef1c34b"
      },
      "outputs": [
        {
          "output_type": "display_data",
          "data": {
            "text/plain": [
              "<pandas.io.formats.style.Styler at 0x7a97dc4e04f0>"
            ],
            "text/html": [
              "<style type=\"text/css\">\n",
              "#T_23bea_row2_col0, #T_23bea_row8_col1 {\n",
              "  background-color: #b7e3bc;\n",
              "  color: #000000;\n",
              "}\n",
              "#T_23bea_row2_col1, #T_23bea_row10_col1 {\n",
              "  background-color: #8dd3be;\n",
              "  color: #000000;\n",
              "}\n",
              "#T_23bea_row2_col2, #T_23bea_row12_col2 {\n",
              "  background-color: #f6fbef;\n",
              "  color: #000000;\n",
              "}\n",
              "#T_23bea_row3_col0 {\n",
              "  background-color: #b9e3bc;\n",
              "  color: #000000;\n",
              "}\n",
              "#T_23bea_row3_col1 {\n",
              "  background-color: #8fd4bd;\n",
              "  color: #000000;\n",
              "}\n",
              "#T_23bea_row3_col2, #T_23bea_row5_col2, #T_23bea_row6_col0, #T_23bea_row6_col1, #T_23bea_row6_col2, #T_23bea_row7_col0, #T_23bea_row7_col1, #T_23bea_row7_col2, #T_23bea_row8_col2, #T_23bea_row9_col2, #T_23bea_row11_col2, #T_23bea_row13_col2 {\n",
              "  background-color: #f7fcf0;\n",
              "  color: #000000;\n",
              "}\n",
              "#T_23bea_row4_col0 {\n",
              "  background-color: #d4eece;\n",
              "  color: #000000;\n",
              "}\n",
              "#T_23bea_row4_col1 {\n",
              "  background-color: #3c9fc8;\n",
              "  color: #f1f1f1;\n",
              "}\n",
              "#T_23bea_row4_col2 {\n",
              "  background-color: #f4fbed;\n",
              "  color: #000000;\n",
              "}\n",
              "#T_23bea_row5_col0 {\n",
              "  background-color: #d5eece;\n",
              "  color: #000000;\n",
              "}\n",
              "#T_23bea_row5_col1 {\n",
              "  background-color: #2889bc;\n",
              "  color: #f1f1f1;\n",
              "}\n",
              "#T_23bea_row8_col0 {\n",
              "  background-color: #dcf1d6;\n",
              "  color: #000000;\n",
              "}\n",
              "#T_23bea_row9_col0 {\n",
              "  background-color: #dcf1d7;\n",
              "  color: #000000;\n",
              "}\n",
              "#T_23bea_row9_col1 {\n",
              "  background-color: #d1edcb;\n",
              "  color: #000000;\n",
              "}\n",
              "#T_23bea_row10_col0 {\n",
              "  background-color: #bce5be;\n",
              "  color: #000000;\n",
              "}\n",
              "#T_23bea_row10_col2 {\n",
              "  background-color: #f6fcef;\n",
              "  color: #000000;\n",
              "}\n",
              "#T_23bea_row11_col0 {\n",
              "  background-color: #bbe4bd;\n",
              "  color: #000000;\n",
              "}\n",
              "#T_23bea_row11_col1 {\n",
              "  background-color: #9fdab8;\n",
              "  color: #000000;\n",
              "}\n",
              "#T_23bea_row12_col0 {\n",
              "  background-color: #81cec2;\n",
              "  color: #000000;\n",
              "}\n",
              "#T_23bea_row12_col1 {\n",
              "  background-color: #62becc;\n",
              "  color: #000000;\n",
              "}\n",
              "#T_23bea_row13_col0 {\n",
              "  background-color: #84cfc1;\n",
              "  color: #000000;\n",
              "}\n",
              "#T_23bea_row13_col1 {\n",
              "  background-color: #42a6cc;\n",
              "  color: #f1f1f1;\n",
              "}\n",
              "#T_23bea_row14_col0, #T_23bea_row14_col1, #T_23bea_row14_col2, #T_23bea_row15_col1 {\n",
              "  background-color: #084081;\n",
              "  color: #f1f1f1;\n",
              "}\n",
              "#T_23bea_row15_col0 {\n",
              "  background-color: #085395;\n",
              "  color: #f1f1f1;\n",
              "}\n",
              "#T_23bea_row15_col2 {\n",
              "  background-color: #b5e2bb;\n",
              "  color: #000000;\n",
              "}\n",
              "</style>\n",
              "<table id=\"T_23bea\" class=\"dataframe\">\n",
              "  <thead>\n",
              "    <tr>\n",
              "      <th class=\"blank\" >&nbsp;</th>\n",
              "      <th class=\"blank level0\" >&nbsp;</th>\n",
              "      <th id=\"T_23bea_level0_col0\" class=\"col_heading level0 col0\" >step</th>\n",
              "      <th id=\"T_23bea_level0_col1\" class=\"col_heading level0 col1\" >anglez</th>\n",
              "      <th id=\"T_23bea_level0_col2\" class=\"col_heading level0 col2\" >enmo</th>\n",
              "    </tr>\n",
              "    <tr>\n",
              "      <th class=\"index_name level0\" ></th>\n",
              "      <th class=\"index_name level1\" >Event</th>\n",
              "      <th class=\"blank col0\" >&nbsp;</th>\n",
              "      <th class=\"blank col1\" >&nbsp;</th>\n",
              "      <th class=\"blank col2\" >&nbsp;</th>\n",
              "    </tr>\n",
              "  </thead>\n",
              "  <tbody>\n",
              "    <tr>\n",
              "      <th id=\"T_23bea_level0_row0\" class=\"row_heading level0 row0\" rowspan=\"2\">count</th>\n",
              "      <th id=\"T_23bea_level1_row0\" class=\"row_heading level1 row0\" >0</th>\n",
              "      <td id=\"T_23bea_row0_col0\" class=\"data row0 col0\" >8,660,676.00</td>\n",
              "      <td id=\"T_23bea_row0_col1\" class=\"data row0 col1\" >8,660,676.00</td>\n",
              "      <td id=\"T_23bea_row0_col2\" class=\"data row0 col2\" >8,660,676.00</td>\n",
              "    </tr>\n",
              "    <tr>\n",
              "      <th id=\"T_23bea_level1_row1\" class=\"row_heading level1 row1\" >1</th>\n",
              "      <td id=\"T_23bea_row1_col0\" class=\"data row1 col0\" >4,504,884.00</td>\n",
              "      <td id=\"T_23bea_row1_col1\" class=\"data row1 col1\" >4,504,884.00</td>\n",
              "      <td id=\"T_23bea_row1_col2\" class=\"data row1 col2\" >4,504,884.00</td>\n",
              "    </tr>\n",
              "    <tr>\n",
              "      <th id=\"T_23bea_level0_row2\" class=\"row_heading level0 row2\" rowspan=\"2\">mean</th>\n",
              "      <th id=\"T_23bea_level1_row2\" class=\"row_heading level1 row2\" >0</th>\n",
              "      <td id=\"T_23bea_row2_col0\" class=\"data row2 col0\" >204,623.52</td>\n",
              "      <td id=\"T_23bea_row2_col1\" class=\"data row2 col1\" >-8.72</td>\n",
              "      <td id=\"T_23bea_row2_col2\" class=\"data row2 col2\" >0.06</td>\n",
              "    </tr>\n",
              "    <tr>\n",
              "      <th id=\"T_23bea_level1_row3\" class=\"row_heading level1 row3\" >1</th>\n",
              "      <td id=\"T_23bea_row3_col0\" class=\"data row3 col0\" >200,970.74</td>\n",
              "      <td id=\"T_23bea_row3_col1\" class=\"data row3 col1\" >-10.09</td>\n",
              "      <td id=\"T_23bea_row3_col2\" class=\"data row3 col2\" >0.01</td>\n",
              "    </tr>\n",
              "    <tr>\n",
              "      <th id=\"T_23bea_level0_row4\" class=\"row_heading level0 row4\" rowspan=\"2\">std</th>\n",
              "      <th id=\"T_23bea_level1_row4\" class=\"row_heading level1 row4\" >0</th>\n",
              "      <td id=\"T_23bea_row4_col0\" class=\"data row4 col0\" >128,306.00</td>\n",
              "      <td id=\"T_23bea_row4_col1\" class=\"data row4 col1\" >33.92</td>\n",
              "      <td id=\"T_23bea_row4_col2\" class=\"data row4 col2\" >0.14</td>\n",
              "    </tr>\n",
              "    <tr>\n",
              "      <th id=\"T_23bea_level1_row5\" class=\"row_heading level1 row5\" >1</th>\n",
              "      <td id=\"T_23bea_row5_col0\" class=\"data row5 col0\" >125,052.88</td>\n",
              "      <td id=\"T_23bea_row5_col1\" class=\"data row5 col1\" >46.89</td>\n",
              "      <td id=\"T_23bea_row5_col2\" class=\"data row5 col2\" >0.02</td>\n",
              "    </tr>\n",
              "    <tr>\n",
              "      <th id=\"T_23bea_level0_row6\" class=\"row_heading level0 row6\" rowspan=\"2\">min</th>\n",
              "      <th id=\"T_23bea_level1_row6\" class=\"row_heading level1 row6\" >0</th>\n",
              "      <td id=\"T_23bea_row6_col0\" class=\"data row6 col0\" >0.00</td>\n",
              "      <td id=\"T_23bea_row6_col1\" class=\"data row6 col1\" >-90.00</td>\n",
              "      <td id=\"T_23bea_row6_col2\" class=\"data row6 col2\" >0.00</td>\n",
              "    </tr>\n",
              "    <tr>\n",
              "      <th id=\"T_23bea_level1_row7\" class=\"row_heading level1 row7\" >1</th>\n",
              "      <td id=\"T_23bea_row7_col0\" class=\"data row7 col0\" >2,220.00</td>\n",
              "      <td id=\"T_23bea_row7_col1\" class=\"data row7 col1\" >-89.98</td>\n",
              "      <td id=\"T_23bea_row7_col2\" class=\"data row7 col2\" >0.00</td>\n",
              "    </tr>\n",
              "    <tr>\n",
              "      <th id=\"T_23bea_level0_row8\" class=\"row_heading level0 row8\" rowspan=\"2\">25%</th>\n",
              "      <th id=\"T_23bea_level1_row8\" class=\"row_heading level1 row8\" >0</th>\n",
              "      <td id=\"T_23bea_row8_col0\" class=\"data row8 col0\" >97,716.00</td>\n",
              "      <td id=\"T_23bea_row8_col1\" class=\"data row8 col1\" >-31.99</td>\n",
              "      <td id=\"T_23bea_row8_col2\" class=\"data row8 col2\" >0.01</td>\n",
              "    </tr>\n",
              "    <tr>\n",
              "      <th id=\"T_23bea_level1_row9\" class=\"row_heading level1 row9\" >1</th>\n",
              "      <td id=\"T_23bea_row9_col0\" class=\"data row9 col0\" >95,170.00</td>\n",
              "      <td id=\"T_23bea_row9_col1\" class=\"data row9 col1\" >-50.73</td>\n",
              "      <td id=\"T_23bea_row9_col2\" class=\"data row9 col2\" >0.00</td>\n",
              "    </tr>\n",
              "    <tr>\n",
              "      <th id=\"T_23bea_level0_row10\" class=\"row_heading level0 row10\" rowspan=\"2\">50%</th>\n",
              "      <th id=\"T_23bea_level1_row10\" class=\"row_heading level1 row10\" >0</th>\n",
              "      <td id=\"T_23bea_row10_col0\" class=\"data row10 col0\" >194,997.00</td>\n",
              "      <td id=\"T_23bea_row10_col1\" class=\"data row10 col1\" >-8.54</td>\n",
              "      <td id=\"T_23bea_row10_col2\" class=\"data row10 col2\" >0.03</td>\n",
              "    </tr>\n",
              "    <tr>\n",
              "      <th id=\"T_23bea_level1_row11\" class=\"row_heading level1 row11\" >1</th>\n",
              "      <td id=\"T_23bea_row11_col0\" class=\"data row11 col0\" >196,282.00</td>\n",
              "      <td id=\"T_23bea_row11_col1\" class=\"data row11 col1\" >-17.76</td>\n",
              "      <td id=\"T_23bea_row11_col2\" class=\"data row11 col2\" >0.00</td>\n",
              "    </tr>\n",
              "    <tr>\n",
              "      <th id=\"T_23bea_level0_row12\" class=\"row_heading level0 row12\" rowspan=\"2\">75%</th>\n",
              "      <th id=\"T_23bea_level1_row12\" class=\"row_heading level1 row12\" >0</th>\n",
              "      <td id=\"T_23bea_row12_col0\" class=\"data row12 col0\" >305,155.00</td>\n",
              "      <td id=\"T_23bea_row12_col1\" class=\"data row12 col1\" >12.13</td>\n",
              "      <td id=\"T_23bea_row12_col2\" class=\"data row12 col2\" >0.06</td>\n",
              "    </tr>\n",
              "    <tr>\n",
              "      <th id=\"T_23bea_level1_row13\" class=\"row_heading level1 row13\" >1</th>\n",
              "      <td id=\"T_23bea_row13_col0\" class=\"data row13 col0\" >301,001.00</td>\n",
              "      <td id=\"T_23bea_row13_col1\" class=\"data row13 col1\" >29.77</td>\n",
              "      <td id=\"T_23bea_row13_col2\" class=\"data row13 col2\" >0.01</td>\n",
              "    </tr>\n",
              "    <tr>\n",
              "      <th id=\"T_23bea_level0_row14\" class=\"row_heading level0 row14\" rowspan=\"2\">max</th>\n",
              "      <th id=\"T_23bea_level1_row14\" class=\"row_heading level1 row14\" >0</th>\n",
              "      <td id=\"T_23bea_row14_col0\" class=\"data row14 col0\" >634,679.00</td>\n",
              "      <td id=\"T_23bea_row14_col1\" class=\"data row14 col1\" >89.99</td>\n",
              "      <td id=\"T_23bea_row14_col2\" class=\"data row14 col2\" >7.02</td>\n",
              "    </tr>\n",
              "    <tr>\n",
              "      <th id=\"T_23bea_level1_row15\" class=\"row_heading level1 row15\" >1</th>\n",
              "      <td id=\"T_23bea_row15_col0\" class=\"data row15 col0\" >597,371.00</td>\n",
              "      <td id=\"T_23bea_row15_col1\" class=\"data row15 col1\" >90.00</td>\n",
              "      <td id=\"T_23bea_row15_col2\" class=\"data row15 col2\" >2.32</td>\n",
              "    </tr>\n",
              "  </tbody>\n",
              "</table>\n"
            ]
          },
          "metadata": {}
        }
      ],
      "source": [
        "# {'awake': 0, 'sleeping': 1}\n",
        "\n",
        "# We create two separate dataframe stats for each event value (awake, asleep)\n",
        "subset0 = dataset[dataset.event==0].describe().reset_index()\n",
        "subset1 = dataset[dataset.event==1].describe().reset_index()\n",
        "\n",
        "subset0['event'] = 0\n",
        "subset1['event'] = 1\n",
        "\n",
        "# We join the dataframes in one single description and show it\n",
        "stats_df = pd.concat([subset0, subset1], axis=0).set_index(['index','event'])\n",
        "\n",
        "stats_df.index = stats_df.index.set_names(['','Event'])\n",
        "stats_df = stats_df.reindex([('count', 0),('count', 1),( 'mean', 0),( 'mean', 1),\n",
        "               (  'std', 0), (  'std', 1),(  'min', 0),(  'min', 1),\n",
        "               (  '25%', 0), (  '25%', 1),(  '50%', 0),(  '50%', 1),\n",
        "               (  '75%', 0),(  '75%', 1),(  'max', 0),(  'max', 1)])\n",
        "\n",
        "display(stats_df.style.format('{:,.2f}').background_gradient(subset=(stats_df.index[2:], stats_df.columns[:]), cmap='GnBu', axis=0))"
      ]
    },
    {
      "cell_type": "code",
      "execution_count": null,
      "metadata": {
        "colab": {
          "base_uri": "https://localhost:8080/",
          "height": 472
        },
        "id": "xgxN_jF5IHjL",
        "outputId": "d3782a63-dc7f-4b29-805d-67316d872cb9"
      },
      "outputs": [
        {
          "output_type": "display_data",
          "data": {
            "text/plain": [
              "<Figure size 640x480 with 1 Axes>"
            ],
            "image/png": "[encoded data removed]"
          },
          "metadata": {}
        }
      ],
      "source": [
        "proportions = dataset.groupby('series_id')['event'].value_counts(normalize=True).unstack().fillna(0)\n",
        "\n",
        "fig, ax = plt.subplots()\n",
        "\n",
        "participants = range(len(proportions))\n",
        "\n",
        "ax.bar(participants, proportions[0], color='salmon')\n",
        "ax.bar(participants, proportions[1], color='skyblue')\n",
        "\n",
        "ax.set_ylabel('Proportion')\n",
        "ax.set_xlabel('Participant')\n",
        "ax.set_title('Event proportions for each participant')\n",
        "ax.legend(['Event 0', 'Event 1'], loc='upper right')\n",
        "\n",
        "plt.show()"
      ]
    },
    {
      "cell_type": "code",
      "execution_count": null,
      "metadata": {
        "colab": {
          "base_uri": "https://localhost:8080/",
          "height": 542
        },
        "id": "xjK5tmawKwKE",
        "outputId": "012fa81d-22ba-47e6-9133-3041e836ee53"
      },
      "outputs": [
        {
          "output_type": "display_data",
          "data": {
            "text/html": [
              "<html>\n",
              "<head><meta charset=\"utf-8\" /></head>\n",
              "<body>\n",
              "    <div>            <script src=\"https://cdnjs.cloudflare.com/ajax/libs/mathjax/2.7.5/MathJax.js?config=TeX-AMS-MML_SVG\"></script><script type=\"text/javascript\">if (window.MathJax && window.MathJax.Hub && window.MathJax.Hub.Config) {window.MathJax.Hub.Config({SVG: {font: \"STIX-Web\"}});}</script>                <script type=\"text/javascript\">window.PlotlyConfig = {MathJaxConfig: 'local'};</script>\n",
              "        <script charset=\"utf-8\" src=\"https://cdn.plot.ly/plotly-2.24.1.min.js\"></script>                <div id=\"fcdbc3fc-545b-41ad-b182-7c7116edf0fe\" class=\"plotly-graph-div\" style=\"height:525px; width:100%;\"></div>            <script type=\"text/javascript\">                                    window.PLOTLYENV=window.PLOTLYENV || {};                                    if (document.getElementById(\"fcdbc3fc-545b-41ad-b182-7c7116edf0fe\")) {                    Plotly.newPlot(                        \"fcdbc3fc-545b-41ad-b182-7c7116edf0fe\",                        [{\"fill\":\"tozeroy\",\"hovertemplate\":\"Density = %{y:.5f} at %{x}\",\"marker\":{\"color\":\"#636EFA\"},\"name\":\"State 0\",\"showlegend\":true,\"x\":[-90.0,-89.0,-88.0,-87.0,-86.0,-85.0,-84.0,-83.0,-82.0,-81.0,-80.0,-79.0,-78.0,-77.0,-76.0,-75.0,-74.0,-73.0,-72.0,-71.0,-70.0,-69.0,-68.0,-67.0,-66.0,-65.0,-64.0,-63.0,-62.0,-61.0,-60.0,-59.0,-58.0,-57.0,-56.0,-55.0,-54.0,-53.0,-52.0,-51.0,-50.0,-49.0,-48.0,-47.0,-46.0,-45.0,-44.0,-43.0,-42.0,-41.0,-40.0,-39.0,-38.0,-37.0,-36.0,-35.0,-34.0,-33.0,-32.0,-31.0,-30.0,-29.0,-28.0,-27.0,-26.0,-25.0,-24.0,-23.0,-22.0,-21.0,-20.0,-19.0,-18.0,-17.0,-16.0,-15.0,-14.0,-13.0,-12.0,-11.0,-10.0,-9.0,-8.0,-7.0,-6.0,-5.0,-4.0,-3.0,-2.0,-1.0,0.0,1.0,2.0,3.0,4.0,5.0,6.0,7.0,8.0,9.0,10.0,11.0,12.0,13.0,14.0,15.0,16.0,17.0,18.0,19.0,20.0,21.0,22.0,23.0,24.0,25.0,26.0,27.0,28.0,29.0,30.0,31.0,32.0,33.0,34.0,35.0,36.0,37.0,38.0,39.0,40.0,41.0,42.0,43.0,44.0,45.0,46.0,47.0,48.0,49.0,50.0,51.0,52.0,53.0,54.0,55.0,56.0,57.0,58.0,59.0,60.0,61.0,62.0,63.0,64.0,65.0,66.0,67.0,68.0,69.0,70.0,71.0,72.0,73.0,74.0,75.0,76.0,77.0,78.0,79.0,80.0,81.0,82.0,83.0,84.0,85.0,86.0,87.0,88.0,89.0],\"y\":[0.002410361421928619,0.00242031968144824,0.002430194724126769,0.0024399851999856005,0.0024496897666065865,0.0024593070894324293,0.002468835842077305,0.0024782747066273195,0.002487622373945306,0.0024968775439673193,0.002506038926009089,0.002515105239060105,0.0025240752120815548,0.002532947584307654,0.002541721105534508,0.0025503945364136428,0.0025589666487492984,0.0025674362257774286,0.0025758020624596714,0.002584062965769144,0.0025922177549694177,0.002600265261895261,0.0026082043312416806,0.0026160338208225343,0.0026237526018561986,0.002631359559234809,0.002638853591789302,0.0026462336125578703,0.002653498549046046,0.002660647343485515,0.0026676789530984484,0.0026745923503375523,0.0026813865231482413,0.002688060475209483,0.0026946132261755204,0.0027010438119248886,0.0027073512847832076,0.0027135347137678943,0.0027195931848109076,0.0027255258009856818,0.0027313316827267723,0.002737009968049385,0.0027425598127602414,0.002747980390670161,0.0027532708937984015,0.0027584305325654376,0.0027634585360025933,0.002768354151932439,0.00277311664716576,0.0027777453076741152,0.0027822394387811036,0.0027865983653227798,0.0027908214318252585,0.002794908002668646,0.00279885746224144,0.0028026692151009143,0.0028063426861179306,0.0028098773206247088,0.0028132725845527043,0.0028165279645689526,0.0028196429682038828,0.0028226171239737687,0.002825449981503946,0.002828141111640476,0.0028306901065569693,0.002833096579859548,0.002835360166682302,0.002837480523784652,0.002839457329629006,0.002841290284472074,0.0028429791104342445,0.002844523551571671,0.0028459233739389486,0.002847178365651835,0.0028482883369392734,0.002849253120190151,0.002850072569994223,0.0028507465631816198,0.002851274998854375,0.002851657798407853,0.0028518949055505215,0.002851986286323152,0.0028519319290987864,0.0028517318445913683,0.0028513860658517355,0.0028508946482541297,0.002850257669487308,0.0028494752295281233,0.0028485474506205594,0.002847474477243641,0.0028462564760659455,0.0028448936359148245,0.002843386167719635,0.0028417343044561966,0.0028399383010964834,0.0028379984345297147,0.0028359150034985435,0.0028336883285261256,0.002831318751826409,0.002828806637219688,0.002826152370038848,0.002823356357033534,0.0028204190262617213,0.0028173408269861052,0.0028141222295533477,0.002810763725278718,0.0028072658263212057,0.0028036290655502677,0.0027998539964129644,0.002795941192792567,0.0027918912488658298,0.0027877047789493727,0.0027833824173426006,0.0027789248181764653,0.00277433265523715,0.002769606621806419,0.0027647474304795016,0.002759755812991337,0.0027546325200294396,0.0027493783210484147,0.0027439940040774775,0.002738480375521933,0.0027328382599604377,0.0027270684999450697,0.0027211719557878812,0.00271514950534764,0.002709002043812511,0.0027027304834769676,0.0026963357535214403,0.0026898187997773998,0.0026831805844969247,0.0026764220861129674,0.002669544299008268,0.0026625482332627405,0.0026554349144056128,0.0026482053831748172,0.002640860695257009,0.0026334019210290725,0.002625830145302801,0.0026181464670626997,0.0026103519991966446,0.0026024478682323206,0.0025944352140612214,0.0025863151896709847,0.00257808896086631,0.002569757705988245,0.002561322615642659,0.002552784892404773,0.002544145750544856,0.0025354064157359422,0.002526568124767045,0.002517632125249801,0.0025085996753301137,0.002499472043390952,0.0024902505077584905,0.0024809363564019197,0.002471530886638624,0.002462035404832829,0.0024524512260969407,0.0024427796739846523,0.0024330220801918483,0.00242317978425252,0.0024132541332343386,0.002403246481431592,0.002393158190059857,0.0023829906269527044,0.0023727451662491576,0.0023624231880927976,0.002352026078321865,0.0023415552281589322,0.0023310120339089246,0.0023203978966489028,0.002309714221922122,0.0022989624194288895,0.002288143902721487,0.002277260088901913,0.0022663123983080007,0.0022553022542157464,0.002244231082534151,0.002233100311497275],\"type\":\"scatter\",\"xaxis\":\"x\",\"yaxis\":\"y\"},{\"fill\":\"tozeroy\",\"hovertemplate\":\"Density = %{y:.5f} at %{x}\",\"marker\":{\"color\":\"#EF553B\"},\"name\":\"State 1\",\"showlegend\":true,\"x\":[-89.9769,-88.9769,-87.9769,-86.9769,-85.9769,-84.9769,-83.9769,-82.9769,-81.9769,-80.9769,-79.9769,-78.9769,-77.9769,-76.9769,-75.9769,-74.9769,-73.9769,-72.9769,-71.9769,-70.9769,-69.9769,-68.9769,-67.9769,-66.9769,-65.9769,-64.9769,-63.9769,-62.9769,-61.9769,-60.9769,-59.9769,-58.9769,-57.9769,-56.9769,-55.9769,-54.9769,-53.9769,-52.9769,-51.9769,-50.9769,-49.9769,-48.9769,-47.9769,-46.9769,-45.9769,-44.9769,-43.9769,-42.9769,-41.9769,-40.9769,-39.9769,-38.9769,-37.9769,-36.9769,-35.9769,-34.9769,-33.9769,-32.9769,-31.9769,-30.9769,-29.9769,-28.9769,-27.9769,-26.9769,-25.9769,-24.9769,-23.9769,-22.9769,-21.9769,-20.9769,-19.9769,-18.9769,-17.9769,-16.9769,-15.9769,-14.9769,-13.9769,-12.9769,-11.9769,-10.9769,-9.9769,-8.9769,-7.9769000000000005,-6.9769000000000005,-5.9769000000000005,-4.9769000000000005,-3.9769000000000005,-2.9769000000000005,-1.9769000000000005,-0.9769000000000005,0.023099999999999454,1.0230999999999995,2.0230999999999995,3.0230999999999995,4.0230999999999995,5.0230999999999995,6.0230999999999995,7.0230999999999995,8.0231,9.0231,10.0231,11.0231,12.0231,13.0231,14.0231,15.0231,16.0231,17.0231,18.0231,19.0231,20.0231,21.0231,22.0231,23.0231,24.0231,25.0231,26.0231,27.0231,28.0231,29.0231,30.0231,31.0231,32.0231,33.0231,34.0231,35.0231,36.0231,37.0231,38.0231,39.0231,40.0231,41.0231,42.0231,43.0231,44.0231,45.0231,46.0231,47.0231,48.0231,49.0231,50.0231,51.0231,52.0231,53.0231,54.0231,55.0231,56.0231,57.0231,58.0231,59.0231,60.0231,61.0231,62.0231,63.0231,64.0231,65.0231,66.0231,67.0231,68.0231,69.0231,70.0231,71.0231,72.0231,73.0231,74.0231,75.0231,76.0231,77.0231,78.0231,79.0231,80.0231,81.0231,82.0231,83.0231,84.0231,85.0231,86.0231,87.0231,88.0231,89.0231],\"y\":[0.0018958617981659205,0.001899865207968512,0.001903826111426015,0.0019077442095104002,0.0019116192060186245,0.001915450807614667,0.0019192387238659255,0.0019229826672744748,0.0019266823533214091,0.0019303375004958428,0.0019339478303328967,0.001937513067452097,0.0019410329395899103,0.00194450717763145,0.0019479355156456985,0.001951317690927439,0.0019546534440193887,0.0019579425187532893,0.001961184662274969,0.001964379625088801,0.001967527161075488,0.0019706270275332734,0.0019736789852061107,0.0019766827983141067,0.00197963823458433,0.0019825450652801507,0.0019854030652346074,0.001988212012868944,0.001990971690233639,0.001993681883031232,0.001996342380640882,0.001998952976152097,0.0020015134663839695,0.002004023651919008,0.002006483337121561,0.0020088923301747824,0.002011250443088573,0.0020135574917395068,0.002015813295888656,0.0020180176792004164,0.002020170469273638,0.002022271497658088,0.0020243205998831753,0.002026317615468234,0.002028262387956945,0.002030154764922609,0.0020319945980045045,0.0020337817429160834,0.0020355160594617825,0.002037197411570617,0.002038825667293426,0.0020404006988337976,0.002041922382565181,0.0020433905990337085,0.0020448052329938415,0.002046166173407155,0.002047473313460259,0.002048726550584927,0.0020499257864648973,0.0020510709270529877,0.0020521618825797717,0.002053198567567209,0.0020541809008412025,0.002055108805537812,0.0020559822091189357,0.002056801043376051,0.0020575652444447283,0.0020582747528057684,0.002058929513303239,0.002059529475137922,0.002060074591885476,0.0020605648214998503,0.0020610001263134665,0.002061380473049274,0.002061705832816237,0.0020619761811228703,0.002062191497873099,0.00206235176737162,0.0020624569783244833,0.0020625071238424496,0.0020625022014381248,0.0020624422130319587,0.0020623271649426378,0.00206215706789609,0.002061931937017815,0.002061651791832092,0.0020613166562584205,0.0020609265586086197,0.0020604815315830127,0.0020599816122710292,0.0020594268421326926,0.0020588172670039724,0.002058152937092197,0.002057433906958892,0.0020566602355191867,0.0020558319860330123,0.0020549492261007756,0.0020540120276391896,0.002053020466891316,0.002051974624402314,0.00205087458501532,0.002049720437852234,0.002048512276315981,0.002047250198057601,0.0020459343049868553,0.0020445647032344277,0.0020431415031590444,0.002041664819319021,0.00204013477045795,0.002038551479496182,0.0020369150735104103,0.002035225683713129,0.002033483445438031,0.0020316884981269228,0.0020298409853009864,0.002027941054551003,0.002025988857509247,0.0020239845498421847,0.002021928291211388,0.0020198202452689114,0.0020176605796303256,0.0020154494658481395,0.0020131870793913586,0.0020108735996269425,0.002008509209791344,0.0020060940969677445,0.002003628452061877,0.002001112469772017,0.0019985463485767217,0.001995930290691648,0.0019932645020515577,0.001990549192291093,0.0019877845747015236,0.0019849708662111544,0.0019821082873602808,0.0019791970622670923,0.0019762374185987347,0.001973229587543707,0.001970173803782557,0.0019670703054556,0.0019639193341302414,0.0019607211347725615,0.0019574759557201425,0.001954184048638372,0.0019508456684987465,0.0019474610735390838,0.0019440305252348053,0.001940554288262993,0.0019370326304700267,0.001933465822835252,0.0019298541394382038,0.0019261978574236873,0.001922497256962085,0.0019187526212221286,0.0019149642363285523,0.001911132391322124,0.0019072573781363602,0.001903339491547021,0.0018993790291418878,0.0018953762912805375,0.0018913315810589453,0.0018872452042675283,0.0018831174693589164,0.0018789486874020375,0.0018747391720495752,0.0018704892394935568,0.0018661992084283738,0.0018618694000152808,0.0018575001378331817,0.00185309174784505,0.001848644558356293,0.0018441588999783033,0.00183963510557681,0.0018350735102414491,0.0018304744512390133,0.00182583826797703,0.001821165301954934,0.0018164558967305629,0.001811710397870556,0.0018069291529145342],\"type\":\"scatter\",\"xaxis\":\"x\",\"yaxis\":\"y\"},{\"fill\":\"tozeroy\",\"hovertemplate\":\"Density = %{y:.5f} at %{x}\",\"marker\":{\"color\":\"#636EFA\"},\"name\":\"State 0\",\"showlegend\":false,\"x\":[0.0,1.0,2.0,3.0,4.0,5.0,6.0,7.0],\"y\":[0.7180487740236701,0.1683176519337315,0.003187457421388932,0.0003044564886664189,5.910122711698876e-05,1.0371908862996838e-05,1.2895074215243882e-06,2.06159522711427e-06],\"type\":\"scatter\",\"xaxis\":\"x2\",\"yaxis\":\"y2\"},{\"fill\":\"tozeroy\",\"hovertemplate\":\"Density = %{y:.5f} at %{x}\",\"marker\":{\"color\":\"#EF553B\"},\"name\":\"State 1\",\"showlegend\":false,\"x\":[0.0,1.0,2.0],\"y\":[6.346922958261311,3.5397204232011824e-06,1.934207392479774e-07],\"type\":\"scatter\",\"xaxis\":\"x2\",\"yaxis\":\"y2\"}],                        {\"template\":{\"data\":{\"histogram2dcontour\":[{\"type\":\"histogram2dcontour\",\"colorbar\":{\"outlinewidth\":0,\"ticks\":\"\"},\"colorscale\":[[0.0,\"#0d0887\"],[0.1111111111111111,\"#46039f\"],[0.2222222222222222,\"#7201a8\"],[0.3333333333333333,\"#9c179e\"],[0.4444444444444444,\"#bd3786\"],[0.5555555555555556,\"#d8576b\"],[0.6666666666666666,\"#ed7953\"],[0.7777777777777778,\"#fb9f3a\"],[0.8888888888888888,\"#fdca26\"],[1.0,\"#f0f921\"]]}],\"choropleth\":[{\"type\":\"choropleth\",\"colorbar\":{\"outlinewidth\":0,\"ticks\":\"\"}}],\"histogram2d\":[{\"type\":\"histogram2d\",\"colorbar\":{\"outlinewidth\":0,\"ticks\":\"\"},\"colorscale\":[[0.0,\"#0d0887\"],[0.1111111111111111,\"#46039f\"],[0.2222222222222222,\"#7201a8\"],[0.3333333333333333,\"#9c179e\"],[0.4444444444444444,\"#bd3786\"],[0.5555555555555556,\"#d8576b\"],[0.6666666666666666,\"#ed7953\"],[0.7777777777777778,\"#fb9f3a\"],[0.8888888888888888,\"#fdca26\"],[1.0,\"#f0f921\"]]}],\"heatmap\":[{\"type\":\"heatmap\",\"colorbar\":{\"outlinewidth\":0,\"ticks\":\"\"},\"colorscale\":[[0.0,\"#0d0887\"],[0.1111111111111111,\"#46039f\"],[0.2222222222222222,\"#7201a8\"],[0.3333333333333333,\"#9c179e\"],[0.4444444444444444,\"#bd3786\"],[0.5555555555555556,\"#d8576b\"],[0.6666666666666666,\"#ed7953\"],[0.7777777777777778,\"#fb9f3a\"],[0.8888888888888888,\"#fdca26\"],[1.0,\"#f0f921\"]]}],\"heatmapgl\":[{\"type\":\"heatmapgl\",\"colorbar\":{\"outlinewidth\":0,\"ticks\":\"\"},\"colorscale\":[[0.0,\"#0d0887\"],[0.1111111111111111,\"#46039f\"],[0.2222222222222222,\"#7201a8\"],[0.3333333333333333,\"#9c179e\"],[0.4444444444444444,\"#bd3786\"],[0.5555555555555556,\"#d8576b\"],[0.6666666666666666,\"#ed7953\"],[0.7777777777777778,\"#fb9f3a\"],[0.8888888888888888,\"#fdca26\"],[1.0,\"#f0f921\"]]}],\"contourcarpet\":[{\"type\":\"contourcarpet\",\"colorbar\":{\"outlinewidth\":0,\"ticks\":\"\"}}],\"contour\":[{\"type\":\"contour\",\"colorbar\":{\"outlinewidth\":0,\"ticks\":\"\"},\"colorscale\":[[0.0,\"#0d0887\"],[0.1111111111111111,\"#46039f\"],[0.2222222222222222,\"#7201a8\"],[0.3333333333333333,\"#9c179e\"],[0.4444444444444444,\"#bd3786\"],[0.5555555555555556,\"#d8576b\"],[0.6666666666666666,\"#ed7953\"],[0.7777777777777778,\"#fb9f3a\"],[0.8888888888888888,\"#fdca26\"],[1.0,\"#f0f921\"]]}],\"surface\":[{\"type\":\"surface\",\"colorbar\":{\"outlinewidth\":0,\"ticks\":\"\"},\"colorscale\":[[0.0,\"#0d0887\"],[0.1111111111111111,\"#46039f\"],[0.2222222222222222,\"#7201a8\"],[0.3333333333333333,\"#9c179e\"],[0.4444444444444444,\"#bd3786\"],[0.5555555555555556,\"#d8576b\"],[0.6666666666666666,\"#ed7953\"],[0.7777777777777778,\"#fb9f3a\"],[0.8888888888888888,\"#fdca26\"],[1.0,\"#f0f921\"]]}],\"mesh3d\":[{\"type\":\"mesh3d\",\"colorbar\":{\"outlinewidth\":0,\"ticks\":\"\"}}],\"scatter\":[{\"fillpattern\":{\"fillmode\":\"overlay\",\"size\":10,\"solidity\":0.2},\"type\":\"scatter\"}],\"parcoords\":[{\"type\":\"parcoords\",\"line\":{\"colorbar\":{\"outlinewidth\":0,\"ticks\":\"\"}}}],\"scatterpolargl\":[{\"type\":\"scatterpolargl\",\"marker\":{\"colorbar\":{\"outlinewidth\":0,\"ticks\":\"\"}}}],\"bar\":[{\"error_x\":{\"color\":\"#2a3f5f\"},\"error_y\":{\"color\":\"#2a3f5f\"},\"marker\":{\"line\":{\"color\":\"#E5ECF6\",\"width\":0.5},\"pattern\":{\"fillmode\":\"overlay\",\"size\":10,\"solidity\":0.2}},\"type\":\"bar\"}],\"scattergeo\":[{\"type\":\"scattergeo\",\"marker\":{\"colorbar\":{\"outlinewidth\":0,\"ticks\":\"\"}}}],\"scatterpolar\":[{\"type\":\"scatterpolar\",\"marker\":{\"colorbar\":{\"outlinewidth\":0,\"ticks\":\"\"}}}],\"histogram\":[{\"marker\":{\"pattern\":{\"fillmode\":\"overlay\",\"size\":10,\"solidity\":0.2}},\"type\":\"histogram\"}],\"scattergl\":[{\"type\":\"scattergl\",\"marker\":{\"colorbar\":{\"outlinewidth\":0,\"ticks\":\"\"}}}],\"scatter3d\":[{\"type\":\"scatter3d\",\"line\":{\"colorbar\":{\"outlinewidth\":0,\"ticks\":\"\"}},\"marker\":{\"colorbar\":{\"outlinewidth\":0,\"ticks\":\"\"}}}],\"scattermapbox\":[{\"type\":\"scattermapbox\",\"marker\":{\"colorbar\":{\"outlinewidth\":0,\"ticks\":\"\"}}}],\"scatterternary\":[{\"type\":\"scatterternary\",\"marker\":{\"colorbar\":{\"outlinewidth\":0,\"ticks\":\"\"}}}],\"scattercarpet\":[{\"type\":\"scattercarpet\",\"marker\":{\"colorbar\":{\"outlinewidth\":0,\"ticks\":\"\"}}}],\"carpet\":[{\"aaxis\":{\"endlinecolor\":\"#2a3f5f\",\"gridcolor\":\"white\",\"linecolor\":\"white\",\"minorgridcolor\":\"white\",\"startlinecolor\":\"#2a3f5f\"},\"baxis\":{\"endlinecolor\":\"#2a3f5f\",\"gridcolor\":\"white\",\"linecolor\":\"white\",\"minorgridcolor\":\"white\",\"startlinecolor\":\"#2a3f5f\"},\"type\":\"carpet\"}],\"table\":[{\"cells\":{\"fill\":{\"color\":\"#EBF0F8\"},\"line\":{\"color\":\"white\"}},\"header\":{\"fill\":{\"color\":\"#C8D4E3\"},\"line\":{\"color\":\"white\"}},\"type\":\"table\"}],\"barpolar\":[{\"marker\":{\"line\":{\"color\":\"#E5ECF6\",\"width\":0.5},\"pattern\":{\"fillmode\":\"overlay\",\"size\":10,\"solidity\":0.2}},\"type\":\"barpolar\"}],\"pie\":[{\"automargin\":true,\"type\":\"pie\"}]},\"layout\":{\"autotypenumbers\":\"strict\",\"colorway\":[\"#636efa\",\"#EF553B\",\"#00cc96\",\"#ab63fa\",\"#FFA15A\",\"#19d3f3\",\"#FF6692\",\"#B6E880\",\"#FF97FF\",\"#FECB52\"],\"font\":{\"color\":\"#2a3f5f\"},\"hovermode\":\"closest\",\"hoverlabel\":{\"align\":\"left\"},\"paper_bgcolor\":\"white\",\"plot_bgcolor\":\"#E5ECF6\",\"polar\":{\"bgcolor\":\"#E5ECF6\",\"angularaxis\":{\"gridcolor\":\"white\",\"linecolor\":\"white\",\"ticks\":\"\"},\"radialaxis\":{\"gridcolor\":\"white\",\"linecolor\":\"white\",\"ticks\":\"\"}},\"ternary\":{\"bgcolor\":\"#E5ECF6\",\"aaxis\":{\"gridcolor\":\"white\",\"linecolor\":\"white\",\"ticks\":\"\"},\"baxis\":{\"gridcolor\":\"white\",\"linecolor\":\"white\",\"ticks\":\"\"},\"caxis\":{\"gridcolor\":\"white\",\"linecolor\":\"white\",\"ticks\":\"\"}},\"coloraxis\":{\"colorbar\":{\"outlinewidth\":0,\"ticks\":\"\"}},\"colorscale\":{\"sequential\":[[0.0,\"#0d0887\"],[0.1111111111111111,\"#46039f\"],[0.2222222222222222,\"#7201a8\"],[0.3333333333333333,\"#9c179e\"],[0.4444444444444444,\"#bd3786\"],[0.5555555555555556,\"#d8576b\"],[0.6666666666666666,\"#ed7953\"],[0.7777777777777778,\"#fb9f3a\"],[0.8888888888888888,\"#fdca26\"],[1.0,\"#f0f921\"]],\"sequentialminus\":[[0.0,\"#0d0887\"],[0.1111111111111111,\"#46039f\"],[0.2222222222222222,\"#7201a8\"],[0.3333333333333333,\"#9c179e\"],[0.4444444444444444,\"#bd3786\"],[0.5555555555555556,\"#d8576b\"],[0.6666666666666666,\"#ed7953\"],[0.7777777777777778,\"#fb9f3a\"],[0.8888888888888888,\"#fdca26\"],[1.0,\"#f0f921\"]],\"diverging\":[[0,\"#8e0152\"],[0.1,\"#c51b7d\"],[0.2,\"#de77ae\"],[0.3,\"#f1b6da\"],[0.4,\"#fde0ef\"],[0.5,\"#f7f7f7\"],[0.6,\"#e6f5d0\"],[0.7,\"#b8e186\"],[0.8,\"#7fbc41\"],[0.9,\"#4d9221\"],[1,\"#276419\"]]},\"xaxis\":{\"gridcolor\":\"white\",\"linecolor\":\"white\",\"ticks\":\"\",\"title\":{\"standoff\":15},\"zerolinecolor\":\"white\",\"automargin\":true,\"zerolinewidth\":2},\"yaxis\":{\"gridcolor\":\"white\",\"linecolor\":\"white\",\"ticks\":\"\",\"title\":{\"standoff\":15},\"zerolinecolor\":\"white\",\"automargin\":true,\"zerolinewidth\":2},\"scene\":{\"xaxis\":{\"backgroundcolor\":\"#E5ECF6\",\"gridcolor\":\"white\",\"linecolor\":\"white\",\"showbackground\":true,\"ticks\":\"\",\"zerolinecolor\":\"white\",\"gridwidth\":2},\"yaxis\":{\"backgroundcolor\":\"#E5ECF6\",\"gridcolor\":\"white\",\"linecolor\":\"white\",\"showbackground\":true,\"ticks\":\"\",\"zerolinecolor\":\"white\",\"gridwidth\":2},\"zaxis\":{\"backgroundcolor\":\"#E5ECF6\",\"gridcolor\":\"white\",\"linecolor\":\"white\",\"showbackground\":true,\"ticks\":\"\",\"zerolinecolor\":\"white\",\"gridwidth\":2}},\"shapedefaults\":{\"line\":{\"color\":\"#2a3f5f\"}},\"annotationdefaults\":{\"arrowcolor\":\"#2a3f5f\",\"arrowhead\":0,\"arrowwidth\":1},\"geo\":{\"bgcolor\":\"white\",\"landcolor\":\"#E5ECF6\",\"subunitcolor\":\"white\",\"showland\":true,\"showlakes\":true,\"lakecolor\":\"white\"},\"title\":{\"x\":0.05},\"mapbox\":{\"style\":\"light\"}}},\"xaxis\":{\"anchor\":\"y\",\"domain\":[0.0,1.0]},\"yaxis\":{\"anchor\":\"x\",\"domain\":[0.625,1.0],\"title\":{\"text\":\"Density\"}},\"xaxis2\":{\"anchor\":\"y2\",\"domain\":[0.0,1.0]},\"yaxis2\":{\"anchor\":\"x2\",\"domain\":[0.0,0.375],\"title\":{\"text\":\"Density\"}},\"annotations\":[{\"font\":{\"size\":16},\"showarrow\":false,\"text\":\"Distribution of feature anglez\",\"x\":0.5,\"xanchor\":\"center\",\"xref\":\"paper\",\"y\":1.0,\"yanchor\":\"bottom\",\"yref\":\"paper\"},{\"font\":{\"size\":16},\"showarrow\":false,\"text\":\"Distribution of feature enmo\",\"x\":0.5,\"xanchor\":\"center\",\"xref\":\"paper\",\"y\":0.375,\"yanchor\":\"bottom\",\"yref\":\"paper\"}]},                        {\"responsive\": true}                    ).then(function(){\n",
              "                            \n",
              "var gd = document.getElementById('fcdbc3fc-545b-41ad-b182-7c7116edf0fe');\n",
              "var x = new MutationObserver(function (mutations, observer) {{\n",
              "        var display = window.getComputedStyle(gd).display;\n",
              "        if (!display || display === 'none') {{\n",
              "            console.log([gd, 'removed!']);\n",
              "            Plotly.purge(gd);\n",
              "            observer.disconnect();\n",
              "        }}\n",
              "}});\n",
              "\n",
              "// Listen for the removal of the full notebook cells\n",
              "var notebookContainer = gd.closest('#notebook-container');\n",
              "if (notebookContainer) {{\n",
              "    x.observe(notebookContainer, {childList: true});\n",
              "}}\n",
              "\n",
              "// Listen for the clearing of the current output cell\n",
              "var outputEl = gd.closest('.output');\n",
              "if (outputEl) {{\n",
              "    x.observe(outputEl, {childList: true});\n",
              "}}\n",
              "\n",
              "                        })                };                            </script>        </div>\n",
              "</body>\n",
              "</html>"
            ]
          },
          "metadata": {}
        }
      ],
      "source": [
        "color=px.colors.qualitative.Plotly\n",
        "\n",
        "features = ['anglez', 'enmo']\n",
        "titles = [f'Distribution of feature {features[i]}'for i in range(len(features))]\n",
        "\n",
        "fig = make_subplots(rows=2, cols=1,\n",
        "                    subplot_titles=titles, column_widths=[0.5])\n",
        "legend=True\n",
        "for i, feature in enumerate(features):\n",
        "  if i != 0:\n",
        "        legend=False\n",
        "  for j in range(0,2):\n",
        "    hist_data=dataset[dataset.event==j][feature]\n",
        "    density=gaussian_kde(dataset=hist_data)\n",
        "    x=np.arange(hist_data.min(), hist_data.max())\n",
        "    density.covariance_factor = lambda: 4\n",
        "    density._compute_covariance()\n",
        "    kde_curve=density(x)\n",
        "    fig.append_trace(go.Scatter(x=x, y=kde_curve, marker_color=color[j],\n",
        "                                fill='tozeroy', name='State {}'.format(j),\n",
        "                                hovertemplate='Density = %{y:.5f} at %{x}',\n",
        "                                showlegend=legend),\n",
        "                      row=i+1, col=1)\n",
        "    fig.update_yaxes(title=\"Density\",row=i+1, col=1)\n",
        "\n",
        "fig.show()"
      ]
    },
    {
      "cell_type": "code",
      "execution_count": null,
      "metadata": {
        "colab": {
          "base_uri": "https://localhost:8080/"
        },
        "id": "BQOqLOc1OiKn",
        "outputId": "8f5c2f74-c4b1-40e0-d8d0-c1e2a4277733"
      },
      "outputs": [
        {
          "name": "stdout",
          "output_type": "stream",
          "text": [
            "Number of (enmo, anglez) = (0, 0) combinations : 0\n"
          ]
        }
      ],
      "source": [
        "print(f\"Number of (enmo, anglez) = (0, 0) combinations : {len(list(dataset[(dataset['anglez'] == 0) & (dataset['enmo'] == 0)].index))}\")"
      ]
    },
    {
      "cell_type": "markdown",
      "metadata": {
        "id": "KutRXC28DewY"
      },
      "source": [
        "# LSTM architecture"
      ]
    },
    {
      "cell_type": "code",
      "execution_count": 12,
      "metadata": {
        "colab": {
          "base_uri": "https://localhost:8080/"
        },
        "id": "dkPv4YhkPVjr",
        "outputId": "bd7283d0-0960-43b0-f4ce-e550641b5d75"
      },
      "outputs": [
        {
          "output_type": "stream",
          "name": "stdout",
          "text": [
            "Model: \"LSTM\"\n",
            "_________________________________________________________________\n",
            " Layer (type)                Output Shape              Param #   \n",
            "=================================================================\n",
            " input_1 (InputLayer)        [(None, 634680, 3)]       0         \n",
            "                                                                 \n",
            " masking (Masking)           (None, 634680, 3)         0         \n",
            "                                                                 \n",
            " lstm (LSTM)                 (None, 634680, 60)        15360     \n",
            "                                                                 \n",
            " dropout (Dropout)           (None, 634680, 60)        0         \n",
            "                                                                 \n",
            " lstm_1 (LSTM)               (None, 634680, 60)        29040     \n",
            "                                                                 \n",
            " dropout_1 (Dropout)         (None, 634680, 60)        0         \n",
            "                                                                 \n",
            " dense (Dense)               (None, 634680, 3)         183       \n",
            "                                                                 \n",
            "=================================================================\n",
            "Total params: 44583 (174.15 KB)\n",
            "Trainable params: 44583 (174.15 KB)\n",
            "Non-trainable params: 0 (0.00 Byte)\n",
            "_________________________________________________________________\n"
          ]
        }
      ],
      "source": [
        "input_shape = (634680, 3)\n",
        "num_classes = 3\n",
        "learning_rate=0.001\n",
        "loss='categorical_crossentropy'\n",
        "metrics=['accuracy', classif_metrics.AUC(name = 'auc')]\n",
        "\n",
        "lstm_model=create_lstm(input_shape, metrics, learning_rate, loss, num_classes)\n",
        "lstm_model.summary()"
      ]
    },
    {
      "cell_type": "code",
      "execution_count": null,
      "metadata": {
        "id": "JAmuOftfUXyk"
      },
      "outputs": [],
      "source": [
        "lr = ReduceLROnPlateau(monitor='val_auc', factor=0.4,  patience=3, verbose=True)\n",
        "es = EarlyStopping(monitor='val_auc', mode='max', patience=5, restore_best_weights=True, verbose=True)"
      ]
    },
    {
      "cell_type": "code",
      "execution_count": null,
      "metadata": {
        "colab": {
          "base_uri": "https://localhost:8080/"
        },
        "id": "6enmaPtxP81h",
        "outputId": "3b59f257-c150-403d-d3be-dd17c6beaefa"
      },
      "outputs": [
        {
          "output_type": "stream",
          "name": "stdout",
          "text": [
            "Epoch 1/20\n",
            "7/7 [==============================] - 185s 25s/step - loss: 3.1931 - accuracy: 0.3934 - auc: 0.5767 - val_loss: 3.0065 - val_accuracy: 0.3513 - val_auc: 0.5936 - lr: 0.0010\n",
            "Epoch 2/20\n",
            "7/7 [==============================] - 174s 25s/step - loss: 2.8945 - accuracy: 0.3902 - auc: 0.5908 - val_loss: 2.7031 - val_accuracy: 0.3511 - val_auc: 0.6039 - lr: 0.0010\n",
            "Epoch 3/20\n",
            "7/7 [==============================] - 175s 25s/step - loss: 2.6257 - accuracy: 0.3949 - auc: 0.5952 - val_loss: 2.4676 - val_accuracy: 0.4540 - val_auc: 0.6296 - lr: 0.0010\n",
            "Epoch 4/20\n",
            "7/7 [==============================] - 173s 25s/step - loss: 2.4046 - accuracy: 0.3886 - auc: 0.5912 - val_loss: 2.2739 - val_accuracy: 0.3513 - val_auc: 0.5772 - lr: 0.0010\n",
            "Epoch 5/20\n",
            "7/7 [==============================] - 177s 26s/step - loss: 2.2080 - accuracy: 0.3981 - auc: 0.5980 - val_loss: 2.0876 - val_accuracy: 0.4539 - val_auc: 0.6294 - lr: 0.0010\n",
            "Epoch 6/20\n",
            "7/7 [==============================] - 175s 25s/step - loss: 2.0442 - accuracy: 0.3922 - auc: 0.5936 - val_loss: 1.9390 - val_accuracy: 0.4547 - val_auc: 0.6460 - lr: 0.0010\n",
            "Epoch 7/20\n",
            "7/7 [==============================] - ETA: 0s - loss: 1.9054 - accuracy: 0.3883 - auc: 0.5919 \n",
            "Epoch 7: ReduceLROnPlateau reducing learning rate to 0.0004000000189989805.\n",
            "7/7 [==============================] - 173s 25s/step - loss: 1.9054 - accuracy: 0.3883 - auc: 0.5919 - val_loss: 1.8088 - val_accuracy: 0.4539 - val_auc: 0.6317 - lr: 0.0010\n",
            "Epoch 8/20\n",
            "7/7 [==============================] - 174s 25s/step - loss: 1.8079 - accuracy: 0.3970 - auc: 0.5970 - val_loss: 1.7697 - val_accuracy: 0.3508 - val_auc: 0.5780 - lr: 4.0000e-04\n",
            "Epoch 9/20\n",
            "7/7 [==============================] - 175s 25s/step - loss: 1.7651 - accuracy: 0.3955 - auc: 0.5959 - val_loss: 1.7320 - val_accuracy: 0.3512 - val_auc: 0.5781 - lr: 4.0000e-04\n",
            "Epoch 10/20\n",
            "7/7 [==============================] - ETA: 0s - loss: 1.7247 - accuracy: 0.3932 - auc: 0.5947 \n",
            "Epoch 10: ReduceLROnPlateau reducing learning rate to 0.00016000000759959222.\n",
            "7/7 [==============================] - 175s 25s/step - loss: 1.7247 - accuracy: 0.3932 - auc: 0.5947 - val_loss: 1.6833 - val_accuracy: 0.4538 - val_auc: 0.6546 - lr: 4.0000e-04\n",
            "Epoch 11/20\n",
            "7/7 [==============================] - 177s 26s/step - loss: 1.6950 - accuracy: 0.3967 - auc: 0.5969 - val_loss: 1.6693 - val_accuracy: 0.4539 - val_auc: 0.6546 - lr: 1.6000e-04\n",
            "Epoch 12/20\n",
            "7/7 [==============================] - 175s 26s/step - loss: 1.6800 - accuracy: 0.3978 - auc: 0.5975 - val_loss: 1.6547 - val_accuracy: 0.4539 - val_auc: 0.6329 - lr: 1.6000e-04\n",
            "Epoch 13/20\n",
            "7/7 [==============================] - ETA: 0s - loss: 1.6665 - accuracy: 0.3908 - auc: 0.5929 \n",
            "Epoch 13: ReduceLROnPlateau reducing learning rate to 6.40000042039901e-05.\n",
            "7/7 [==============================] - 173s 25s/step - loss: 1.6665 - accuracy: 0.3908 - auc: 0.5929 - val_loss: 1.6446 - val_accuracy: 0.4586 - val_auc: 0.6587 - lr: 1.6000e-04\n",
            "Epoch 14/20\n",
            "7/7 [==============================] - 172s 25s/step - loss: 1.6532 - accuracy: 0.3994 - auc: 0.5986 - val_loss: 1.6397 - val_accuracy: 0.3509 - val_auc: 0.5784 - lr: 6.4000e-05\n",
            "Epoch 15/20\n",
            "7/7 [==============================] - 172s 25s/step - loss: 1.6474 - accuracy: 0.4002 - auc: 0.5992 - val_loss: 1.6336 - val_accuracy: 0.5313 - val_auc: 0.6573 - lr: 6.4000e-05\n",
            "Epoch 16/20\n",
            "7/7 [==============================] - ETA: 0s - loss: 1.6420 - accuracy: 0.3993 - auc: 0.5985 \n",
            "Epoch 16: ReduceLROnPlateau reducing learning rate to 2.560000284574926e-05.\n",
            "7/7 [==============================] - 171s 25s/step - loss: 1.6420 - accuracy: 0.3993 - auc: 0.5985 - val_loss: 1.6277 - val_accuracy: 0.4578 - val_auc: 0.6536 - lr: 6.4000e-05\n",
            "Epoch 17/20\n",
            "7/7 [==============================] - 174s 25s/step - loss: 1.6376 - accuracy: 0.3994 - auc: 0.5987 - val_loss: 1.6254 - val_accuracy: 0.4574 - val_auc: 0.6535 - lr: 2.5600e-05\n",
            "Epoch 18/20\n",
            "7/7 [==============================] - 172s 25s/step - loss: 1.6353 - accuracy: 0.3998 - auc: 0.5989 - val_loss: 1.6234 - val_accuracy: 0.4566 - val_auc: 0.6591 - lr: 2.5600e-05\n",
            "Epoch 19/20\n",
            "7/7 [==============================] - ETA: 0s - loss: 1.6331 - accuracy: 0.3995 - auc: 0.5987 \n",
            "Epoch 19: ReduceLROnPlateau reducing learning rate to 1.0240000847261399e-05.\n",
            "7/7 [==============================] - 171s 25s/step - loss: 1.6331 - accuracy: 0.3995 - auc: 0.5987 - val_loss: 1.6213 - val_accuracy: 0.5315 - val_auc: 0.6575 - lr: 2.5600e-05\n",
            "Epoch 20/20\n",
            "7/7 [==============================] - 170s 25s/step - loss: 1.6313 - accuracy: 0.3997 - auc: 0.5988 - val_loss: 1.6204 - val_accuracy: 0.5315 - val_auc: 0.6577 - lr: 1.0240e-05\n"
          ]
        }
      ],
      "source": [
        "lstm_history = lstm_model.fit(\n",
        "    train_data[0],\n",
        "    train_data[1],\n",
        "    epochs=20,\n",
        "    batch_size=4,\n",
        "    validation_data=val_data,\n",
        "    sample_weight=mask_train,\n",
        "    callbacks=[es,lr]\n",
        ")"
      ]
    },
    {
      "cell_type": "code",
      "execution_count": null,
      "metadata": {
        "id": "D9B5-C9LVWIf",
        "colab": {
          "base_uri": "https://localhost:8080/"
        },
        "outputId": "ff3e38cf-4cf7-43c3-da22-d093555519a4"
      },
      "outputs": [
        {
          "output_type": "stream",
          "name": "stderr",
          "text": [
            "/usr/local/lib/python3.10/dist-packages/keras/src/engine/training.py:3079: UserWarning:\n",
            "\n",
            "You are saving your model as an HDF5 file via `model.save()`. This file format is considered legacy. We recommend using instead the native Keras format, e.g. `model.save('my_model.keras')`.\n",
            "\n"
          ]
        }
      ],
      "source": [
        "# To save the model\n",
        "lstm_model.save('lstm_24102023.h5')\n",
        "\n",
        "with open('lstm_history_24102023.pkl', 'wb') as file:\n",
        "    pickle.dump(lstm_history.history, file)"
      ]
    },
    {
      "cell_type": "code",
      "execution_count": null,
      "metadata": {
        "id": "JV2gw15cVqZf"
      },
      "outputs": [],
      "source": [
        "# To load the model if already trained\n",
        "\n",
        "# lstm_model = load_model('lstm_24102023.h5')\n",
        "# with open('lstm_history_24102023.pkl', 'rb') as file:\n",
        "#    lstm_history = pickle.load(file)"
      ]
    },
    {
      "cell_type": "code",
      "execution_count": null,
      "metadata": {
        "id": "rDN8Of5FVt4E",
        "colab": {
          "base_uri": "https://localhost:8080/",
          "height": 472
        },
        "outputId": "47dbcb06-e3a1-4ec9-b509-11fd640d2c74"
      },
      "outputs": [
        {
          "output_type": "display_data",
          "data": {
            "text/plain": [
              "<Figure size 640x480 with 1 Axes>"
            ],
            "image/png": "[encoded data removed]"
          },
          "metadata": {}
        }
      ],
      "source": [
        "visualize_metric(lstm_history, 'loss')"
      ]
    },
    {
      "cell_type": "code",
      "execution_count": null,
      "metadata": {
        "id": "kyzVVtKYVyhJ",
        "colab": {
          "base_uri": "https://localhost:8080/",
          "height": 472
        },
        "outputId": "5a956a46-08e9-4322-d091-c561423a3e94"
      },
      "outputs": [
        {
          "output_type": "display_data",
          "data": {
            "text/plain": [
              "<Figure size 640x480 with 1 Axes>"
            ],
            "image/png": "[encoded data removed]"
          },
          "metadata": {}
        }
      ],
      "source": [
        "visualize_metric(lstm_history, 'auc')"
      ]
    },
    {
      "cell_type": "markdown",
      "metadata": {
        "id": "B_StGu59V5kS"
      },
      "source": [
        "Testing the model"
      ]
    },
    {
      "cell_type": "code",
      "source": [
        "evaluation = lstm_model.evaluate(x=test_data[0], y=test_data[1], sample_weight=mask_test)"
      ],
      "metadata": {
        "colab": {
          "base_uri": "https://localhost:8080/"
        },
        "id": "OAOZ2FslvLb0",
        "outputId": "aa8580c8-43c6-4104-b1fb-3c9d7577a838"
      },
      "execution_count": null,
      "outputs": [
        {
          "output_type": "stream",
          "name": "stdout",
          "text": [
            "1/1 [==============================] - 12s 12s/step - loss: 1.6345 - accuracy: 0.3744 - auc: 0.5914\n"
          ]
        }
      ]
    },
    {
      "cell_type": "code",
      "execution_count": null,
      "metadata": {
        "id": "bo2LSt24V7_l",
        "colab": {
          "base_uri": "https://localhost:8080/"
        },
        "outputId": "e2e6495e-2885-46ac-f885-2f8511745a17"
      },
      "outputs": [
        {
          "output_type": "stream",
          "name": "stdout",
          "text": [
            "1/1 [==============================] - 11s 11s/step\n"
          ]
        }
      ],
      "source": [
        "predictions = lstm_model.predict(test_data[0])\n",
        "y_preds = np.argmax(predictions, axis=2)"
      ]
    },
    {
      "cell_type": "code",
      "source": [
        "print(f\"Test loss : {evaluation[lstm_model.metrics_names.index('loss')]}\")\n",
        "print(f\"Test accuracy : {evaluation[lstm_model.metrics_names.index('accuracy')]}\")\n",
        "print(f\"Test AUC : {evaluation[lstm_model.metrics_names.index('auc')]}\")"
      ],
      "metadata": {
        "colab": {
          "base_uri": "https://localhost:8080/"
        },
        "id": "Axg4uod2vfOS",
        "outputId": "a925c3b7-0cfc-45be-e804-63f42c82da7e"
      },
      "execution_count": null,
      "outputs": [
        {
          "output_type": "stream",
          "name": "stdout",
          "text": [
            "Test loss : 1.6344619989395142\n",
            "Test accuracy : 0.37440410256385803\n",
            "Test AUC : 0.5914310216903687\n"
          ]
        }
      ]
    },
    {
      "cell_type": "code",
      "execution_count": null,
      "metadata": {
        "id": "30Ysj1tIV9B4",
        "colab": {
          "base_uri": "https://localhost:8080/"
        },
        "outputId": "377e3880-95eb-4920-a279-faf60d3fa1f2"
      },
      "outputs": [
        {
          "output_type": "stream",
          "name": "stderr",
          "text": [
            "/usr/local/lib/python3.10/dist-packages/sklearn/metrics/_classification.py:1344: UndefinedMetricWarning:\n",
            "\n",
            "Precision is ill-defined and being set to 0.0 in labels with no predicted samples. Use `zero_division` parameter to control this behavior.\n",
            "\n"
          ]
        },
        {
          "output_type": "stream",
          "name": "stdout",
          "text": [
            "Test Precision: 0.2985048716572911\n",
            "Test Recall: 0.37440410915737066\n",
            "Test F1 Score: 0.29267449817076263\n"
          ]
        }
      ],
      "source": [
        "# weighted for multi-class classification\n",
        "precision = precision_score(np.argmax(test_data[1], axis=2).flatten().astype(np.int32), y_preds.flatten().astype(np.int32), average='weighted')\n",
        "recall = recall_score(np.argmax(test_data[1], axis=2).flatten().astype(np.int32), y_preds.flatten().astype(np.int32), average='weighted')\n",
        "f1 = f1_score(np.argmax(test_data[1], axis=2).flatten().astype(np.int32), y_preds.flatten().astype(np.int32), average='weighted')\n",
        "\n",
        "print(\"Test Precision:\", precision)\n",
        "print(\"Test Recall:\", recall)\n",
        "print(\"Test F1 Score:\", f1)"
      ]
    },
    {
      "cell_type": "markdown",
      "metadata": {
        "id": "NU9Tg-9-DhNA"
      },
      "source": [
        "# BiLSTM architecture"
      ]
    },
    {
      "cell_type": "code",
      "source": [
        "input_shape = (634680, 3)\n",
        "num_classes = 3\n",
        "learning_rate=0.001\n",
        "loss='categorical_crossentropy'\n",
        "metrics=['accuracy', classif_metrics.AUC(name = 'auc')]\n",
        "\n",
        "bilstm_model=create_bilstm(input_shape, metrics, learning_rate, loss, num_classes)\n",
        "bilstm_model.summary()"
      ],
      "metadata": {
        "colab": {
          "base_uri": "https://localhost:8080/"
        },
        "id": "qHXyUmy1ziNM",
        "outputId": "ded33c02-2fdd-409b-fc0f-e3ec2db42009"
      },
      "execution_count": 13,
      "outputs": [
        {
          "output_type": "stream",
          "name": "stdout",
          "text": [
            "Model: \"BiLSTM\"\n",
            "_________________________________________________________________\n",
            " Layer (type)                Output Shape              Param #   \n",
            "=================================================================\n",
            " input_layer (InputLayer)    [(None, 634680, 3)]       0         \n",
            "                                                                 \n",
            " masking_1 (Masking)         (None, 634680, 3)         0         \n",
            "                                                                 \n",
            " bidirectional (Bidirection  (None, 634680, 128)       34816     \n",
            " al)                                                             \n",
            "                                                                 \n",
            " bidirectional_1 (Bidirecti  (None, 634680, 64)        41216     \n",
            " onal)                                                           \n",
            "                                                                 \n",
            " bidirectional_2 (Bidirecti  (None, 634680, 32)        10368     \n",
            " onal)                                                           \n",
            "                                                                 \n",
            " dense_1 (Dense)             (None, 634680, 128)       4224      \n",
            "                                                                 \n",
            " dropout_2 (Dropout)         (None, 634680, 128)       0         \n",
            "                                                                 \n",
            " dense_2 (Dense)             (None, 634680, 3)         387       \n",
            "                                                                 \n",
            "=================================================================\n",
            "Total params: 91011 (355.51 KB)\n",
            "Trainable params: 91011 (355.51 KB)\n",
            "Non-trainable params: 0 (0.00 Byte)\n",
            "_________________________________________________________________\n"
          ]
        }
      ]
    },
    {
      "cell_type": "code",
      "source": [
        "lr = ReduceLROnPlateau(monitor='val_auc', factor=0.4,  patience=3, verbose=True)\n",
        "es = EarlyStopping(monitor='val_auc', mode='max', patience=5, restore_best_weights=True, verbose=True)"
      ],
      "metadata": {
        "id": "Vv9s2-Fhzlye"
      },
      "execution_count": null,
      "outputs": []
    },
    {
      "cell_type": "code",
      "source": [
        "bilstm_history = bilstm_model.fit(\n",
        "    train_data[0],\n",
        "    train_data[1],\n",
        "    epochs=20,\n",
        "    batch_size=4,\n",
        "    validation_data=val_data,\n",
        "    sample_weight=mask_train,\n",
        "    callbacks=[es,lr]\n",
        ")"
      ],
      "metadata": {
        "colab": {
          "base_uri": "https://localhost:8080/"
        },
        "id": "gEOO5RpuzqtV",
        "outputId": "befc9b02-215d-4eb0-e6fa-04fc1c894b8d"
      },
      "execution_count": null,
      "outputs": [
        {
          "output_type": "stream",
          "name": "stdout",
          "text": [
            "Epoch 1/20\n",
            "7/7 [==============================] - 602s 85s/step - loss: 1.0850 - accuracy: 0.3323 - auc: 0.5525 - val_loss: 1.0526 - val_accuracy: 0.3513 - val_auc: 0.5788 - lr: 0.0010\n",
            "Epoch 2/20\n",
            "7/7 [==============================] - 582s 84s/step - loss: 1.0651 - accuracy: 0.3792 - auc: 0.5843 - val_loss: 1.0511 - val_accuracy: 0.4614 - val_auc: 0.6042 - lr: 0.0010\n",
            "Epoch 3/20\n",
            "7/7 [==============================] - 580s 84s/step - loss: 1.0614 - accuracy: 0.3942 - auc: 0.5935 - val_loss: 1.0638 - val_accuracy: 0.3513 - val_auc: 0.5796 - lr: 0.0010\n",
            "Epoch 4/20\n",
            "7/7 [==============================] - ETA: 0s - loss: 1.0605 - accuracy: 0.3977 - auc: 0.5953  \n",
            "Epoch 4: ReduceLROnPlateau reducing learning rate to 0.0004000000189989805.\n",
            "7/7 [==============================] - 581s 84s/step - loss: 1.0605 - accuracy: 0.3977 - auc: 0.5953 - val_loss: 1.0568 - val_accuracy: 0.3513 - val_auc: 0.5803 - lr: 0.0010\n",
            "Epoch 5/20\n",
            "7/7 [==============================] - 580s 84s/step - loss: 1.0585 - accuracy: 0.3975 - auc: 0.5967 - val_loss: 1.0534 - val_accuracy: 0.3513 - val_auc: 0.5797 - lr: 4.0000e-04\n",
            "Epoch 6/20\n",
            "7/7 [==============================] - 579s 84s/step - loss: 1.0586 - accuracy: 0.3953 - auc: 0.5948 - val_loss: 1.0532 - val_accuracy: 0.3513 - val_auc: 0.5802 - lr: 4.0000e-04\n",
            "Epoch 7/20\n",
            "7/7 [==============================] - ETA: 0s - loss: 1.0580 - accuracy: 0.3987 - auc: 0.5980  Restoring model weights from the end of the best epoch: 2.\n",
            "\n",
            "Epoch 7: ReduceLROnPlateau reducing learning rate to 0.00016000000759959222.\n",
            "7/7 [==============================] - 582s 85s/step - loss: 1.0580 - accuracy: 0.3987 - auc: 0.5980 - val_loss: 1.0540 - val_accuracy: 0.3513 - val_auc: 0.5802 - lr: 4.0000e-04\n",
            "Epoch 7: early stopping\n"
          ]
        }
      ]
    },
    {
      "cell_type": "code",
      "source": [
        "# To save the model\n",
        "bilstm_model.save('bilstm_24102023.h5')\n",
        "\n",
        "with open('bilstm_history_24102023.pkl', 'wb') as file:\n",
        "    pickle.dump(bilstm_history.history, file)"
      ],
      "metadata": {
        "colab": {
          "base_uri": "https://localhost:8080/"
        },
        "id": "X7UBPnz20we-",
        "outputId": "7e70d843-34b1-401a-b9aa-bf91fedc378e"
      },
      "execution_count": null,
      "outputs": [
        {
          "output_type": "stream",
          "name": "stderr",
          "text": [
            "/usr/local/lib/python3.10/dist-packages/keras/src/engine/training.py:3079: UserWarning: You are saving your model as an HDF5 file via `model.save()`. This file format is considered legacy. We recommend using instead the native Keras format, e.g. `model.save('my_model.keras')`.\n",
            "  saving_api.save_model(\n"
          ]
        }
      ]
    },
    {
      "cell_type": "code",
      "source": [
        "# To load the model if already trained\n",
        "\n",
        "# bilstm_model = load_model('lstm_24102023.h5')\n",
        "# with open('lstm_history_24102023.pkl', 'rb') as file:\n",
        "#    lstm_history = pickle.load(file)"
      ],
      "metadata": {
        "id": "-gyxoVAd0sW7"
      },
      "execution_count": null,
      "outputs": []
    },
    {
      "cell_type": "code",
      "source": [
        "visualize_metric(bilstm_history, 'loss')"
      ],
      "metadata": {
        "colab": {
          "base_uri": "https://localhost:8080/",
          "height": 472
        },
        "id": "eJOTs2Lx0xgA",
        "outputId": "d2136636-e36b-4fef-888f-798929fba8c4"
      },
      "execution_count": null,
      "outputs": [
        {
          "output_type": "display_data",
          "data": {
            "text/plain": [
              "<Figure size 640x480 with 1 Axes>"
            ],
            "image/png": "[encoded data removed]"
          },
          "metadata": {}
        }
      ]
    },
    {
      "cell_type": "code",
      "source": [
        "visualize_metric(bilstm_history, 'auc')"
      ],
      "metadata": {
        "colab": {
          "base_uri": "https://localhost:8080/",
          "height": 472
        },
        "id": "VR9am5Rj2kwa",
        "outputId": "aa2eb593-becb-4f18-b74a-3906bfae0285"
      },
      "execution_count": null,
      "outputs": [
        {
          "output_type": "display_data",
          "data": {
            "text/plain": [
              "<Figure size 640x480 with 1 Axes>"
            ],
            "image/png": "[encoded data removed]"
          },
          "metadata": {}
        }
      ]
    },
    {
      "cell_type": "markdown",
      "source": [
        "Testing the model..."
      ],
      "metadata": {
        "id": "AZmHScBe2uEc"
      }
    },
    {
      "cell_type": "code",
      "source": [
        "evaluation = bilstm_model.evaluate(x=test_data[0], y=test_data[1], sample_weight=mask_test)"
      ],
      "metadata": {
        "colab": {
          "base_uri": "https://localhost:8080/"
        },
        "id": "USqhr_zg2lmz",
        "outputId": "46bcaee9-bada-48bc-fbe2-742387cc0c5d"
      },
      "execution_count": null,
      "outputs": [
        {
          "output_type": "stream",
          "name": "stdout",
          "text": [
            "1/1 [==============================] - 33s 33s/step - loss: 1.0653 - accuracy: 0.4231 - auc: 0.5914\n"
          ]
        }
      ]
    },
    {
      "cell_type": "code",
      "source": [
        "predictions = bilstm_model.predict(test_data[0])\n",
        "y_preds = np.argmax(predictions, axis=2)"
      ],
      "metadata": {
        "colab": {
          "base_uri": "https://localhost:8080/"
        },
        "id": "bv5_yZom2v1l",
        "outputId": "d346b3d9-7c4c-4b2f-ddec-c6f485dc8afa"
      },
      "execution_count": null,
      "outputs": [
        {
          "output_type": "stream",
          "name": "stdout",
          "text": [
            "1/1 [==============================] - 35s 35s/step\n"
          ]
        }
      ]
    },
    {
      "cell_type": "code",
      "source": [
        "print(f\"Test loss : {evaluation[bilstm_model.metrics_names.index('loss')]}\")\n",
        "print(f\"Test accuracy : {evaluation[bilstm_model.metrics_names.index('accuracy')]}\")\n",
        "print(f\"Test AUC : {evaluation[bilstm_model.metrics_names.index('auc')]}\")"
      ],
      "metadata": {
        "colab": {
          "base_uri": "https://localhost:8080/"
        },
        "id": "qShTm_Ou2yOU",
        "outputId": "9bc40ad6-c2ba-4887-9cbd-16b23f059cf9"
      },
      "execution_count": null,
      "outputs": [
        {
          "output_type": "stream",
          "name": "stdout",
          "text": [
            "Test loss : 1.0652706623077393\n",
            "Test accuracy : 0.4230903685092926\n",
            "Test AUC : 0.591446578502655\n"
          ]
        }
      ]
    },
    {
      "cell_type": "code",
      "source": [
        "# weighted for multi-class classification\n",
        "precision = precision_score(np.argmax(test_data[1], axis=2).flatten().astype(np.int32), y_preds.flatten().astype(np.int32), average='weighted')\n",
        "recall = recall_score(np.argmax(test_data[1], axis=2).flatten().astype(np.int32), y_preds.flatten().astype(np.int32), average='weighted')\n",
        "f1 = f1_score(np.argmax(test_data[1], axis=2).flatten().astype(np.int32), y_preds.flatten().astype(np.int32), average='weighted')\n",
        "\n",
        "print(\"Test Precision:\", precision)\n",
        "print(\"Test Recall:\", recall)\n",
        "print(\"Test F1 Score:\", f1)"
      ],
      "metadata": {
        "colab": {
          "base_uri": "https://localhost:8080/"
        },
        "id": "7SKWmfqc2zi2",
        "outputId": "022675c8-8a6f-4908-cf94-9c9276e8df64"
      },
      "execution_count": null,
      "outputs": [
        {
          "output_type": "stream",
          "name": "stderr",
          "text": [
            "/usr/local/lib/python3.10/dist-packages/sklearn/metrics/_classification.py:1344: UndefinedMetricWarning: Precision is ill-defined and being set to 0.0 in labels with no predicted samples. Use `zero_division` parameter to control this behavior.\n",
            "  _warn_prf(average, modifier, msg_start, len(result))\n"
          ]
        },
        {
          "output_type": "stream",
          "name": "stdout",
          "text": [
            "Test Precision: 0.44606205347196\n",
            "Test Recall: 0.4230903762525997\n",
            "Test F1 Score: 0.2624254980480625\n"
          ]
        }
      ]
    },
    {
      "cell_type": "markdown",
      "metadata": {
        "id": "0tZSrzYhidga"
      },
      "source": [
        "# CNN+LSTM Network architecture"
      ]
    },
    {
      "cell_type": "code",
      "execution_count": 14,
      "metadata": {
        "id": "kvhFgV3brQb0",
        "colab": {
          "base_uri": "https://localhost:8080/"
        },
        "outputId": "7a488079-82f1-4e1f-d6d7-3cbeedae5a54"
      },
      "outputs": [
        {
          "output_type": "stream",
          "name": "stdout",
          "text": [
            "Model: \"CNN-LSTM\"\n",
            "_________________________________________________________________\n",
            " Layer (type)                Output Shape              Param #   \n",
            "=================================================================\n",
            " input_layer (InputLayer)    [(None, 634680, 3)]       0         \n",
            "                                                                 \n",
            " masking_2 (Masking)         (None, 634680, 3)         0         \n",
            "                                                                 \n",
            " conv1d (Conv1D)             (None, 634680, 16)        24592     \n",
            "                                                                 \n",
            " dropout_3 (Dropout)         (None, 634680, 16)        0         \n",
            "                                                                 \n",
            " batch_normalization (Batch  (None, 634680, 16)        64        \n",
            " Normalization)                                                  \n",
            "                                                                 \n",
            " conv1d_1 (Conv1D)           (None, 634680, 16)        65552     \n",
            "                                                                 \n",
            " dropout_4 (Dropout)         (None, 634680, 16)        0         \n",
            "                                                                 \n",
            " batch_normalization_1 (Bat  (None, 634680, 16)        64        \n",
            " chNormalization)                                                \n",
            "                                                                 \n",
            " conv1d_2 (Conv1D)           (None, 634680, 16)        65552     \n",
            "                                                                 \n",
            " dropout_5 (Dropout)         (None, 634680, 16)        0         \n",
            "                                                                 \n",
            " batch_normalization_2 (Bat  (None, 634680, 16)        64        \n",
            " chNormalization)                                                \n",
            "                                                                 \n",
            " conv1d_3 (Conv1D)           (None, 634680, 16)        8208      \n",
            "                                                                 \n",
            " dropout_6 (Dropout)         (None, 634680, 16)        0         \n",
            "                                                                 \n",
            " batch_normalization_3 (Bat  (None, 634680, 16)        64        \n",
            " chNormalization)                                                \n",
            "                                                                 \n",
            " lstm_5 (LSTM)               (None, 634680, 256)       279552    \n",
            "                                                                 \n",
            " time_distributed (TimeDist  (None, 634680, 128)       32896     \n",
            " ributed)                                                        \n",
            "                                                                 \n",
            " dropout_7 (Dropout)         (None, 634680, 128)       0         \n",
            "                                                                 \n",
            " batch_normalization_4 (Bat  (None, 634680, 128)       512       \n",
            " chNormalization)                                                \n",
            "                                                                 \n",
            " time_distributed_1 (TimeDi  (None, 634680, 3)         387       \n",
            " stributed)                                                      \n",
            "                                                                 \n",
            "=================================================================\n",
            "Total params: 477507 (1.82 MB)\n",
            "Trainable params: 477123 (1.82 MB)\n",
            "Non-trainable params: 384 (1.50 KB)\n",
            "_________________________________________________________________\n"
          ]
        }
      ],
      "source": [
        "input_shape = (634680, 3)\n",
        "num_classes = 3\n",
        "learning_rate=0.001\n",
        "loss='categorical_crossentropy'\n",
        "metrics=['accuracy', classif_metrics.AUC(name = 'auc')]\n",
        "\n",
        "lstmcnn_model=create_lstmcnn(input_shape, metrics, learning_rate, loss, num_classes)\n",
        "lstmcnn_model.summary()"
      ]
    },
    {
      "cell_type": "code",
      "source": [
        "lr = ReduceLROnPlateau(monitor='val_auc', factor=0.4,  patience=3, verbose=True)\n",
        "es = EarlyStopping(monitor='val_auc', mode='max', patience=5, restore_best_weights=True, verbose=True)"
      ],
      "metadata": {
        "id": "7SODgWCH3f4b"
      },
      "execution_count": null,
      "outputs": []
    },
    {
      "cell_type": "code",
      "execution_count": null,
      "metadata": {
        "colab": {
          "base_uri": "https://localhost:8080/"
        },
        "id": "x_C2oP6EFmsO",
        "outputId": "a1d9f10b-1732-455b-afe5-7310aeb58c4e"
      },
      "outputs": [
        {
          "output_type": "stream",
          "name": "stdout",
          "text": [
            "Epoch 1/20\n",
            "7/7 [==============================] - 135s 19s/step - loss: 1.0500 - accuracy: 0.5514 - auc: 0.7536 - val_loss: 1.1647 - val_accuracy: 0.2990 - val_auc: 0.4459 - lr: 0.0010\n",
            "Epoch 2/20\n",
            "7/7 [==============================] - 130s 19s/step - loss: 0.7845 - accuracy: 0.6715 - auc: 0.8557 - val_loss: 1.1311 - val_accuracy: 0.3145 - val_auc: 0.5630 - lr: 0.0010\n",
            "Epoch 3/20\n",
            "7/7 [==============================] - 130s 19s/step - loss: 0.7570 - accuracy: 0.6674 - auc: 0.8467 - val_loss: 1.1802 - val_accuracy: 0.3090 - val_auc: 0.5206 - lr: 0.0010\n",
            "Epoch 4/20\n",
            "7/7 [==============================] - ETA: 0s - loss: 0.7354 - accuracy: 0.6731 - auc: 0.8567 \n",
            "Epoch 4: ReduceLROnPlateau reducing learning rate to 0.0004000000189989805.\n",
            "7/7 [==============================] - 130s 19s/step - loss: 0.7354 - accuracy: 0.6731 - auc: 0.8567 - val_loss: 1.2453 - val_accuracy: 0.2689 - val_auc: 0.4863 - lr: 0.0010\n",
            "Epoch 5/20\n",
            "7/7 [==============================] - 130s 19s/step - loss: 0.7334 - accuracy: 0.6831 - auc: 0.8614 - val_loss: 1.2699 - val_accuracy: 0.2191 - val_auc: 0.4970 - lr: 4.0000e-04\n",
            "Epoch 6/20\n",
            "7/7 [==============================] - 130s 19s/step - loss: 0.7161 - accuracy: 0.6885 - auc: 0.8645 - val_loss: 1.2619 - val_accuracy: 0.5254 - val_auc: 0.5848 - lr: 4.0000e-04\n",
            "Epoch 7/20\n",
            "7/7 [==============================] - ETA: 0s - loss: 0.7191 - accuracy: 0.6853 - auc: 0.8595 \n",
            "Epoch 7: ReduceLROnPlateau reducing learning rate to 0.00016000000759959222.\n",
            "7/7 [==============================] - 130s 19s/step - loss: 0.7191 - accuracy: 0.6853 - auc: 0.8595 - val_loss: 1.2851 - val_accuracy: 0.5354 - val_auc: 0.5845 - lr: 4.0000e-04\n",
            "Epoch 8/20\n",
            "7/7 [==============================] - 130s 19s/step - loss: 0.7092 - accuracy: 0.6905 - auc: 0.8631 - val_loss: 1.3212 - val_accuracy: 0.5435 - val_auc: 0.5886 - lr: 1.6000e-04\n",
            "Epoch 9/20\n",
            "7/7 [==============================] - 131s 19s/step - loss: 0.7085 - accuracy: 0.6926 - auc: 0.8636 - val_loss: 1.3041 - val_accuracy: 0.5524 - val_auc: 0.6031 - lr: 1.6000e-04\n",
            "Epoch 10/20\n",
            "7/7 [==============================] - ETA: 0s - loss: 0.7055 - accuracy: 0.6917 - auc: 0.8636 \n",
            "Epoch 10: ReduceLROnPlateau reducing learning rate to 6.40000042039901e-05.\n",
            "7/7 [==============================] - 130s 19s/step - loss: 0.7055 - accuracy: 0.6917 - auc: 0.8636 - val_loss: 1.2999 - val_accuracy: 0.5581 - val_auc: 0.6215 - lr: 1.6000e-04\n",
            "Epoch 11/20\n",
            "7/7 [==============================] - 130s 19s/step - loss: 0.7059 - accuracy: 0.6924 - auc: 0.8634 - val_loss: 1.2772 - val_accuracy: 0.5638 - val_auc: 0.6409 - lr: 6.4000e-05\n",
            "Epoch 12/20\n",
            "7/7 [==============================] - 130s 19s/step - loss: 0.7050 - accuracy: 0.6928 - auc: 0.8639 - val_loss: 1.2429 - val_accuracy: 0.5703 - val_auc: 0.6607 - lr: 6.4000e-05\n",
            "Epoch 13/20\n",
            "7/7 [==============================] - ETA: 0s - loss: 0.7046 - accuracy: 0.6935 - auc: 0.8643 \n",
            "Epoch 13: ReduceLROnPlateau reducing learning rate to 2.560000284574926e-05.\n",
            "7/7 [==============================] - 130s 19s/step - loss: 0.7046 - accuracy: 0.6935 - auc: 0.8643 - val_loss: 1.2081 - val_accuracy: 0.5791 - val_auc: 0.6794 - lr: 6.4000e-05\n",
            "Epoch 14/20\n",
            "7/7 [==============================] - 130s 19s/step - loss: 0.7035 - accuracy: 0.6941 - auc: 0.8649 - val_loss: 1.1702 - val_accuracy: 0.5823 - val_auc: 0.6998 - lr: 2.5600e-05\n",
            "Epoch 15/20\n",
            "7/7 [==============================] - 130s 19s/step - loss: 0.7029 - accuracy: 0.6945 - auc: 0.8651 - val_loss: 1.1335 - val_accuracy: 0.5873 - val_auc: 0.7198 - lr: 2.5600e-05\n",
            "Epoch 16/20\n",
            "7/7 [==============================] - ETA: 0s - loss: 0.7030 - accuracy: 0.6943 - auc: 0.8650 \n",
            "Epoch 16: ReduceLROnPlateau reducing learning rate to 1.0240000847261399e-05.\n",
            "7/7 [==============================] - 130s 19s/step - loss: 0.7030 - accuracy: 0.6943 - auc: 0.8650 - val_loss: 1.0980 - val_accuracy: 0.5956 - val_auc: 0.7369 - lr: 2.5600e-05\n",
            "Epoch 17/20\n",
            "7/7 [==============================] - 130s 19s/step - loss: 0.7025 - accuracy: 0.6946 - auc: 0.8653 - val_loss: 1.0651 - val_accuracy: 0.5987 - val_auc: 0.7529 - lr: 1.0240e-05\n",
            "Epoch 18/20\n",
            "7/7 [==============================] - 130s 19s/step - loss: 0.7017 - accuracy: 0.6948 - auc: 0.8655 - val_loss: 1.0343 - val_accuracy: 0.6046 - val_auc: 0.7654 - lr: 1.0240e-05\n",
            "Epoch 19/20\n",
            "7/7 [==============================] - ETA: 0s - loss: 0.7020 - accuracy: 0.6942 - auc: 0.8653 \n",
            "Epoch 19: ReduceLROnPlateau reducing learning rate to 4.09600033890456e-06.\n",
            "7/7 [==============================] - 130s 19s/step - loss: 0.7020 - accuracy: 0.6942 - auc: 0.8653 - val_loss: 1.0061 - val_accuracy: 0.6101 - val_auc: 0.7743 - lr: 1.0240e-05\n",
            "Epoch 20/20\n",
            "7/7 [==============================] - 131s 19s/step - loss: 0.7026 - accuracy: 0.6947 - auc: 0.8653 - val_loss: 0.9805 - val_accuracy: 0.6118 - val_auc: 0.7827 - lr: 4.0960e-06\n"
          ]
        }
      ],
      "source": [
        "lstmcnn_history = lstmcnn_model.fit(\n",
        "    train_data[0],\n",
        "    train_data[1],\n",
        "    epochs=20,\n",
        "    batch_size=4,\n",
        "    validation_data=val_data,\n",
        "    sample_weight=mask_train,\n",
        "    callbacks=[es,lr]\n",
        ")"
      ]
    },
    {
      "cell_type": "code",
      "execution_count": null,
      "metadata": {
        "colab": {
          "base_uri": "https://localhost:8080/"
        },
        "id": "Wa5sTa6FKOlw",
        "outputId": "f172837e-9581-43c0-ed9e-d983161a138c"
      },
      "outputs": [
        {
          "output_type": "stream",
          "name": "stderr",
          "text": [
            "/usr/local/lib/python3.10/dist-packages/keras/src/engine/training.py:3079: UserWarning: You are saving your model as an HDF5 file via `model.save()`. This file format is considered legacy. We recommend using instead the native Keras format, e.g. `model.save('my_model.keras')`.\n",
            "  saving_api.save_model(\n"
          ]
        }
      ],
      "source": [
        "# To save the model\n",
        "lstmcnn_model.save('cnn_lstm_24102023.h5')\n",
        "\n",
        "with open('cnn_lstm_history_24102023.pkl', 'wb') as file:\n",
        "    pickle.dump(lstmcnn_history.history, file)"
      ]
    },
    {
      "cell_type": "code",
      "execution_count": null,
      "metadata": {
        "id": "ImBc6ZQ_uuub"
      },
      "outputs": [],
      "source": [
        "# To load the model if already trained\n",
        "\n",
        "# lstmcnn_model = load_model('cnn_lstm_24102023.h5')\n",
        "# with open('cnn_lstm_history_24102023.pkl', 'rb') as file:\n",
        "#    lstmcnn_history = pickle.load(file)"
      ]
    },
    {
      "cell_type": "code",
      "execution_count": null,
      "metadata": {
        "colab": {
          "base_uri": "https://localhost:8080/",
          "height": 472
        },
        "id": "QKe7cE6iNTfE",
        "outputId": "7e20f8fb-3d95-40b6-9cfe-0413b2f64d17"
      },
      "outputs": [
        {
          "output_type": "display_data",
          "data": {
            "text/plain": [
              "<Figure size 640x480 with 1 Axes>"
            ],
            "image/png": "[encoded data removed]"
          },
          "metadata": {}
        }
      ],
      "source": [
        "visualize_metric(lstmcnn_history, 'loss')"
      ]
    },
    {
      "cell_type": "code",
      "execution_count": null,
      "metadata": {
        "colab": {
          "base_uri": "https://localhost:8080/",
          "height": 472
        },
        "id": "2evDECYcN7UL",
        "outputId": "532b9da1-96f8-462a-f3f0-da605f386975"
      },
      "outputs": [
        {
          "output_type": "display_data",
          "data": {
            "text/plain": [
              "<Figure size 640x480 with 1 Axes>"
            ],
            "image/png": "[encoded data removed]"
          },
          "metadata": {}
        }
      ],
      "source": [
        "visualize_metric(lstmcnn_history, 'auc')"
      ]
    },
    {
      "cell_type": "markdown",
      "metadata": {
        "id": "UTGSDh1aOFAE"
      },
      "source": [
        "Testing the model"
      ]
    },
    {
      "cell_type": "code",
      "source": [
        "evaluation = lstmcnn_model.evaluate(x=test_data[0], y=test_data[1], sample_weight=mask_test)"
      ],
      "metadata": {
        "colab": {
          "base_uri": "https://localhost:8080/"
        },
        "id": "puwsiouT25Ip",
        "outputId": "5f0bfdb7-2b31-458c-b279-f06157533f93"
      },
      "execution_count": null,
      "outputs": [
        {
          "output_type": "stream",
          "name": "stdout",
          "text": [
            "1/1 [==============================] - 7s 7s/step - loss: 0.7429 - accuracy: 0.6828 - auc: 0.8559\n"
          ]
        }
      ]
    },
    {
      "cell_type": "code",
      "execution_count": null,
      "metadata": {
        "id": "PGjCeiWOvaxs",
        "colab": {
          "base_uri": "https://localhost:8080/"
        },
        "outputId": "94618331-cf18-4725-bac6-320f400ee50b"
      },
      "outputs": [
        {
          "output_type": "stream",
          "name": "stdout",
          "text": [
            "1/1 [==============================] - 8s 8s/step\n"
          ]
        }
      ],
      "source": [
        "predictions = lstmcnn_model.predict(test_data[0])\n",
        "y_preds = np.argmax(predictions, axis=2)"
      ]
    },
    {
      "cell_type": "code",
      "source": [
        "print(f\"Test loss : {evaluation[lstmcnn_model.metrics_names.index('loss')]}\")\n",
        "print(f\"Test accuracy : {evaluation[lstmcnn_model.metrics_names.index('accuracy')]}\")\n",
        "print(f\"Test AUC : {evaluation[lstmcnn_model.metrics_names.index('auc')]}\")"
      ],
      "metadata": {
        "colab": {
          "base_uri": "https://localhost:8080/"
        },
        "id": "_mVJ544M3H-c",
        "outputId": "a2194ddf-4470-45cf-e2b5-6d31cc779812"
      },
      "execution_count": null,
      "outputs": [
        {
          "output_type": "stream",
          "name": "stdout",
          "text": [
            "Test loss : 0.7429226636886597\n",
            "Test accuracy : 0.6828058362007141\n",
            "Test AUC : 0.8559109568595886\n"
          ]
        }
      ]
    },
    {
      "cell_type": "code",
      "execution_count": null,
      "metadata": {
        "id": "jbgF_MvGxFy1",
        "colab": {
          "base_uri": "https://localhost:8080/"
        },
        "outputId": "4bc6cdc1-dd42-419c-b987-5659dab45b20"
      },
      "outputs": [
        {
          "output_type": "stream",
          "name": "stderr",
          "text": [
            "/usr/local/lib/python3.10/dist-packages/sklearn/metrics/_classification.py:1344: UndefinedMetricWarning: Precision is ill-defined and being set to 0.0 in labels with no predicted samples. Use `zero_division` parameter to control this behavior.\n",
            "  _warn_prf(average, modifier, msg_start, len(result))\n"
          ]
        },
        {
          "output_type": "stream",
          "name": "stdout",
          "text": [
            "Test Precision: 0.534661466692988\n",
            "Test Recall: 0.6828058234070713\n",
            "Test F1 Score: 0.5993696022485042\n"
          ]
        }
      ],
      "source": [
        "# weighted for multi-class classification\n",
        "precision = precision_score(np.argmax(test_data[1], axis=2).flatten().astype(np.int32), y_preds.flatten().astype(np.int32), average='weighted')\n",
        "recall = recall_score(np.argmax(test_data[1], axis=2).flatten().astype(np.int32), y_preds.flatten().astype(np.int32), average='weighted')\n",
        "f1 = f1_score(np.argmax(test_data[1], axis=2).flatten().astype(np.int32), y_preds.flatten().astype(np.int32), average='weighted')\n",
        "\n",
        "print(\"Test Precision:\", precision)\n",
        "print(\"Test Recall:\", recall)\n",
        "print(\"Test F1 Score:\", f1)"
      ]
    },
    {
      "cell_type": "markdown",
      "metadata": {
        "id": "pp7VcQ9VDkC7"
      },
      "source": [
        "# CNN+BiLSTM architecture"
      ]
    },
    {
      "cell_type": "code",
      "source": [
        "input_shape = (634680, 3)\n",
        "num_classes = 3\n",
        "learning_rate=0.001\n",
        "loss='categorical_crossentropy'\n",
        "metrics=['accuracy', classif_metrics.AUC(name = 'auc')]\n",
        "\n",
        "bilstmcnn_model=create_bilstmcnn(input_shape, metrics, learning_rate, loss, num_classes)\n",
        "bilstmcnn_model.summary()"
      ],
      "metadata": {
        "colab": {
          "base_uri": "https://localhost:8080/"
        },
        "id": "fu7LIlOz3QFn",
        "outputId": "dfe0227a-5b09-4889-e2e1-ccd599c7d3bc"
      },
      "execution_count": 15,
      "outputs": [
        {
          "output_type": "stream",
          "name": "stdout",
          "text": [
            "Model: \"CNN-LSTM\"\n",
            "_________________________________________________________________\n",
            " Layer (type)                Output Shape              Param #   \n",
            "=================================================================\n",
            " input_layer (InputLayer)    [(None, 634680, 3)]       0         \n",
            "                                                                 \n",
            " masking_3 (Masking)         (None, 634680, 3)         0         \n",
            "                                                                 \n",
            " conv1d_4 (Conv1D)           (None, 634680, 16)        24592     \n",
            "                                                                 \n",
            " dropout_8 (Dropout)         (None, 634680, 16)        0         \n",
            "                                                                 \n",
            " batch_normalization_5 (Bat  (None, 634680, 16)        64        \n",
            " chNormalization)                                                \n",
            "                                                                 \n",
            " conv1d_5 (Conv1D)           (None, 634680, 16)        65552     \n",
            "                                                                 \n",
            " dropout_9 (Dropout)         (None, 634680, 16)        0         \n",
            "                                                                 \n",
            " batch_normalization_6 (Bat  (None, 634680, 16)        64        \n",
            " chNormalization)                                                \n",
            "                                                                 \n",
            " conv1d_6 (Conv1D)           (None, 634680, 16)        65552     \n",
            "                                                                 \n",
            " dropout_10 (Dropout)        (None, 634680, 16)        0         \n",
            "                                                                 \n",
            " batch_normalization_7 (Bat  (None, 634680, 16)        64        \n",
            " chNormalization)                                                \n",
            "                                                                 \n",
            " conv1d_7 (Conv1D)           (None, 634680, 16)        8208      \n",
            "                                                                 \n",
            " dropout_11 (Dropout)        (None, 634680, 16)        0         \n",
            "                                                                 \n",
            " batch_normalization_8 (Bat  (None, 634680, 16)        64        \n",
            " chNormalization)                                                \n",
            "                                                                 \n",
            " bidirectional_3 (Bidirecti  (None, 634680, 256)       148480    \n",
            " onal)                                                           \n",
            "                                                                 \n",
            " time_distributed_2 (TimeDi  (None, 634680, 128)       32896     \n",
            " stributed)                                                      \n",
            "                                                                 \n",
            " dropout_12 (Dropout)        (None, 634680, 128)       0         \n",
            "                                                                 \n",
            " batch_normalization_9 (Bat  (None, 634680, 128)       512       \n",
            " chNormalization)                                                \n",
            "                                                                 \n",
            " time_distributed_3 (TimeDi  (None, 634680, 3)         387       \n",
            " stributed)                                                      \n",
            "                                                                 \n",
            "=================================================================\n",
            "Total params: 346435 (1.32 MB)\n",
            "Trainable params: 346051 (1.32 MB)\n",
            "Non-trainable params: 384 (1.50 KB)\n",
            "_________________________________________________________________\n"
          ]
        }
      ]
    },
    {
      "cell_type": "code",
      "source": [
        "lr = ReduceLROnPlateau(monitor='val_auc', factor=0.4,  patience=3, verbose=True)\n",
        "es = EarlyStopping(monitor='val_auc', mode='max', patience=5, restore_best_weights=True, verbose=True)"
      ],
      "metadata": {
        "id": "mo-nZ5H_4HoO"
      },
      "execution_count": null,
      "outputs": []
    },
    {
      "cell_type": "code",
      "source": [
        "bilstmcnn_history = bilstmcnn_model.fit(\n",
        "    train_data[0],\n",
        "    train_data[1],\n",
        "    epochs=20,\n",
        "    batch_size=4,\n",
        "    validation_data=val_data,\n",
        "    sample_weight=mask_train,\n",
        "    callbacks=[es,lr]\n",
        ")"
      ],
      "metadata": {
        "colab": {
          "base_uri": "https://localhost:8080/"
        },
        "id": "1G84ra3Z4I4i",
        "outputId": "1d656a5c-c8ff-4ed5-a7cf-c2a5d5a732f8"
      },
      "execution_count": null,
      "outputs": [
        {
          "output_type": "stream",
          "name": "stdout",
          "text": [
            "Epoch 1/20\n",
            "7/7 [==============================] - 243s 33s/step - loss: 0.9814 - accuracy: 0.5885 - auc: 0.7835 - val_loss: 1.2116 - val_accuracy: 0.4610 - val_auc: 0.5550 - lr: 0.0010\n",
            "Epoch 2/20\n",
            "7/7 [==============================] - 218s 32s/step - loss: 0.8159 - accuracy: 0.6509 - auc: 0.8440 - val_loss: 1.1530 - val_accuracy: 0.4785 - val_auc: 0.5738 - lr: 0.0010\n",
            "Epoch 3/20\n",
            "7/7 [==============================] - 218s 32s/step - loss: 0.7838 - accuracy: 0.6671 - auc: 0.8512 - val_loss: 1.2432 - val_accuracy: 0.4915 - val_auc: 0.5233 - lr: 0.0010\n",
            "Epoch 4/20\n",
            "7/7 [==============================] - 218s 32s/step - loss: 0.7541 - accuracy: 0.6686 - auc: 0.8535 - val_loss: 1.2545 - val_accuracy: 0.5007 - val_auc: 0.5464 - lr: 0.0010\n",
            "Epoch 5/20\n",
            "7/7 [==============================] - 218s 32s/step - loss: 0.7400 - accuracy: 0.6740 - auc: 0.8561 - val_loss: 1.2972 - val_accuracy: 0.5109 - val_auc: 0.5395 - lr: 0.0010\n",
            "Epoch 6/20\n",
            "7/7 [==============================] - ETA: 0s - loss: 0.7267 - accuracy: 0.6783 - auc: 0.8599 \n",
            "Epoch 6: ReduceLROnPlateau reducing learning rate to 0.0004000000189989805.\n",
            "7/7 [==============================] - 218s 32s/step - loss: 0.7267 - accuracy: 0.6783 - auc: 0.8599 - val_loss: 1.3292 - val_accuracy: 0.5195 - val_auc: 0.5554 - lr: 0.0010\n",
            "Epoch 7/20\n",
            "7/7 [==============================] - ETA: 0s - loss: 0.7228 - accuracy: 0.6780 - auc: 0.8608 Restoring model weights from the end of the best epoch: 2.\n",
            "7/7 [==============================] - 218s 32s/step - loss: 0.7228 - accuracy: 0.6780 - auc: 0.8608 - val_loss: 1.3556 - val_accuracy: 0.5282 - val_auc: 0.5692 - lr: 4.0000e-04\n",
            "Epoch 7: early stopping\n"
          ]
        }
      ]
    },
    {
      "cell_type": "code",
      "source": [
        "# To save the model\n",
        "bilstmcnn_model.save('cnn_bilstm_24102023.h5')\n",
        "\n",
        "with open('cnn_bilstm_history_24102023.pkl', 'wb') as file:\n",
        "    pickle.dump(bilstmcnn_history.history, file)"
      ],
      "metadata": {
        "colab": {
          "base_uri": "https://localhost:8080/"
        },
        "id": "wm4btMGX4MUP",
        "outputId": "13a94ce1-94ee-48a5-9069-fd0bbed29eec"
      },
      "execution_count": null,
      "outputs": [
        {
          "output_type": "stream",
          "name": "stderr",
          "text": [
            "/usr/local/lib/python3.10/dist-packages/keras/src/engine/training.py:3079: UserWarning: You are saving your model as an HDF5 file via `model.save()`. This file format is considered legacy. We recommend using instead the native Keras format, e.g. `model.save('my_model.keras')`.\n",
            "  saving_api.save_model(\n"
          ]
        }
      ]
    },
    {
      "cell_type": "code",
      "source": [
        "# To load the model if already trained\n",
        "\n",
        "# bilstmcnn_model = load_model('cnn_bilstm_24102023.h5')\n",
        "# with open('cnn_bilstm_history_24102023.pkl', 'rb') as file:\n",
        "#    bilstmcnn_history = pickle.load(file)"
      ],
      "metadata": {
        "id": "k933E8Vn4Sc4"
      },
      "execution_count": null,
      "outputs": []
    },
    {
      "cell_type": "code",
      "source": [
        "visualize_metric(bilstmcnn_history, 'loss')"
      ],
      "metadata": {
        "colab": {
          "base_uri": "https://localhost:8080/",
          "height": 472
        },
        "id": "fCOqm96X4fF-",
        "outputId": "c71ae4ba-2e41-43c5-b528-76203fa41a1c"
      },
      "execution_count": null,
      "outputs": [
        {
          "output_type": "display_data",
          "data": {
            "text/plain": [
              "<Figure size 640x480 with 1 Axes>"
            ],
            "image/png": "[encoded data removed]"
          },
          "metadata": {}
        }
      ]
    },
    {
      "cell_type": "code",
      "source": [
        "visualize_metric(bilstmcnn_history, 'auc')"
      ],
      "metadata": {
        "colab": {
          "base_uri": "https://localhost:8080/",
          "height": 472
        },
        "id": "L9xiPlI-4gqC",
        "outputId": "07b98c88-e0b2-46c2-fb21-d1986f3a8b7f"
      },
      "execution_count": null,
      "outputs": [
        {
          "output_type": "display_data",
          "data": {
            "text/plain": [
              "<Figure size 640x480 with 1 Axes>"
            ],
            "image/png": "[encoded data removed]"
          },
          "metadata": {}
        }
      ]
    },
    {
      "cell_type": "code",
      "source": [
        "evaluation = bilstmcnn_model.evaluate(x=test_data[0], y=test_data[1],sample_weight=mask_test)"
      ],
      "metadata": {
        "colab": {
          "base_uri": "https://localhost:8080/"
        },
        "id": "limZeDex4l2q",
        "outputId": "761fe638-7a52-4d1d-cd67-c99a1ebf2d2b"
      },
      "execution_count": null,
      "outputs": [
        {
          "output_type": "stream",
          "name": "stdout",
          "text": [
            "1/1 [==============================] - 17s 17s/step - loss: 1.2187 - accuracy: 0.4429 - auc: 0.5167\n"
          ]
        }
      ]
    },
    {
      "cell_type": "code",
      "source": [
        "predictions = bilstmcnn_model.predict(test_data[0])\n",
        "y_preds = np.argmax(predictions, axis=2)"
      ],
      "metadata": {
        "colab": {
          "base_uri": "https://localhost:8080/"
        },
        "id": "lqz3iKuY4v0F",
        "outputId": "76924543-5d68-4b1b-b896-4865c9b82d1d"
      },
      "execution_count": null,
      "outputs": [
        {
          "output_type": "stream",
          "name": "stdout",
          "text": [
            "1/1 [==============================] - 13s 13s/step\n"
          ]
        }
      ]
    },
    {
      "cell_type": "code",
      "source": [
        "print(f\"Test loss : {evaluation[bilstmcnn_model.metrics_names.index('loss')]}\")\n",
        "print(f\"Test accuracy : {evaluation[bilstmcnn_model.metrics_names.index('accuracy')]}\")\n",
        "print(f\"Test AUC : {evaluation[bilstmcnn_model.metrics_names.index('auc')]}\")"
      ],
      "metadata": {
        "colab": {
          "base_uri": "https://localhost:8080/"
        },
        "id": "zJXGlRGR4wiG",
        "outputId": "78831311-d021-40fc-d076-d6d615bb5d32"
      },
      "execution_count": null,
      "outputs": [
        {
          "output_type": "stream",
          "name": "stdout",
          "text": [
            "Test loss : 1.2186599969863892\n",
            "Test accuracy : 0.4428552985191345\n",
            "Test AUC : 0.5166650414466858\n"
          ]
        }
      ]
    },
    {
      "cell_type": "code",
      "source": [
        "# weighted for multi-class classification\n",
        "precision = precision_score(np.argmax(test_data[1], axis=2).flatten().astype(np.int32), y_preds.flatten().astype(np.int32), average='weighted')\n",
        "recall = recall_score(np.argmax(test_data[1], axis=2).flatten().astype(np.int32), y_preds.flatten().astype(np.int32), average='weighted')\n",
        "f1 = f1_score(np.argmax(test_data[1], axis=2).flatten().astype(np.int32), y_preds.flatten().astype(np.int32), average='weighted')\n",
        "\n",
        "print(\"Test Precision:\", precision)\n",
        "print(\"Test Recall:\", recall)\n",
        "print(\"Test F1 Score:\", f1)"
      ],
      "metadata": {
        "colab": {
          "base_uri": "https://localhost:8080/"
        },
        "id": "8yopfDrY4ydU",
        "outputId": "f219b7f6-442a-4200-f4b6-5d7054c6eaa9"
      },
      "execution_count": null,
      "outputs": [
        {
          "output_type": "stream",
          "name": "stderr",
          "text": [
            "/usr/local/lib/python3.10/dist-packages/sklearn/metrics/_classification.py:1344: UndefinedMetricWarning: Precision is ill-defined and being set to 0.0 in labels with no predicted samples. Use `zero_division` parameter to control this behavior.\n",
            "  _warn_prf(average, modifier, msg_start, len(result))\n"
          ]
        },
        {
          "output_type": "stream",
          "name": "stdout",
          "text": [
            "Test Precision: 0.42700859066284025\n",
            "Test Recall: 0.44285529715762273\n",
            "Test F1 Score: 0.3019743507360834\n"
          ]
        }
      ]
    }
  ],
  "metadata": {
    "accelerator": "GPU",
    "colab": {
      "provenance": [],
      "collapsed_sections": [
        "t2JBgTr2CajI",
        "c47nRCh8CdU5",
        "0jUMwB6wm3Dp",
        "Sr87ZufMChjO",
        "KutRXC28DewY",
        "NU9Tg-9-DhNA",
        "0tZSrzYhidga"
      ],
      "gpuType": "V100"
    },
    "kernelspec": {
      "display_name": "Python 3",
      "name": "python3"
    },
    "language_info": {
      "name": "python"
    }
  },
  "nbformat": 4,
  "nbformat_minor": 0
}